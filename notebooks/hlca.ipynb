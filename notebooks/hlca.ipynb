{
 "cells": [
  {
   "cell_type": "markdown",
   "metadata": {},
   "source": [
    "# Mapping and classifying cells using Human Lung Cell Atlas"
   ]
  },
  {
   "cell_type": "markdown",
   "metadata": {},
   "source": [
    "## Environment Setup"
   ]
  },
  {
   "cell_type": "code",
   "execution_count": 1,
   "metadata": {},
   "outputs": [],
   "source": [
    "import os\n",
    "\n",
    "import warnings\n",
    "warnings.simplefilter(action=\"ignore\", category=FutureWarning)\n",
    "warnings.simplefilter(action=\"ignore\", category=UserWarning)"
   ]
  },
  {
   "cell_type": "code",
   "execution_count": 2,
   "metadata": {},
   "outputs": [
    {
     "name": "stderr",
     "output_type": "stream",
     "text": [
      "WARNING:root:In order to use the mouse gastrulation seqFISH datsets, please install squidpy (see https://github.com/scverse/squidpy).\n",
      "WARNING:root:In order to use sagenet models, please install pytorch geometric (see https://pytorch-geometric.readthedocs.io) and \n",
      " captum (see https://github.com/pytorch/captum).\n",
      "INFO:pytorch_lightning.utilities.seed:Global seed set to 0\n",
      "WARNING:root:multigrate is not installed. To use multigrate models, please install it first using \"pip install multigrate\".\n"
     ]
    }
   ],
   "source": [
    "import scanpy as sc\n",
    "import numpy as np\n",
    "import pandas as pd\n",
    "import scarches as sca\n",
    "import gdown\n",
    "import gzip\n",
    "import shutil"
   ]
  },
  {
   "cell_type": "code",
   "execution_count": null,
   "metadata": {},
   "outputs": [],
   "source": [
    "sc.logging.print_versions()"
   ]
  },
  {
   "cell_type": "markdown",
   "metadata": {},
   "source": [
    "## Download Files - Reference model, Embeddings etc."
   ]
  },
  {
   "cell_type": "code",
   "execution_count": 3,
   "metadata": {},
   "outputs": [],
   "source": [
    "if not os.path.isdir(\"../data\"):\n",
    "    os.mkdir(\"../data\")    "
   ]
  },
  {
   "cell_type": "code",
   "execution_count": 4,
   "metadata": {},
   "outputs": [],
   "source": [
    "os.chdir('../data')"
   ]
  },
  {
   "cell_type": "code",
   "execution_count": 7,
   "metadata": {},
   "outputs": [],
   "source": [
    "adata = sc.read('HLCA_emb_and_metadata.h5ad')"
   ]
  },
  {
   "cell_type": "code",
   "execution_count": null,
   "metadata": {},
   "outputs": [],
   "source": [
    "url = 'https://zenodo.org/record/6337966/files/HLCA_emb_and_metadata.h5ad'\n",
    "output = 'HLCA_emb_and_metadata.h5ad'\n",
    "gdown.download(url, output, quiet=False)"
   ]
  },
  {
   "cell_type": "code",
   "execution_count": null,
   "metadata": {},
   "outputs": [],
   "source": [
    "url = 'https://zenodo.org/record/6337966/files/HLCA_reference_model.zip'\n",
    "output = 'HLCA_reference_model.zip'\n",
    "gdown.download(url, output, quiet=False)\n",
    "shutil.unpack_archive('HLCA_reference_model.zip')\n",
    "os.remove(output)"
   ]
  },
  {
   "cell_type": "markdown",
   "metadata": {},
   "source": [
    "## Download query data"
   ]
  },
  {
   "cell_type": "code",
   "execution_count": null,
   "metadata": {},
   "outputs": [],
   "source": [
    "query_data_url = \"https://www.ncbi.nlm.nih.gov/geo/download/?acc=GSM5230027&format=file&file=GSM5230027%5F04%2DP103142%2DS149%2DR01%5Fraw%5Ffeature%5Fbc%5Fmatrix%2Eh5%2Egz\"\n",
    "query_metadata_url = \"https://www.ncbi.nlm.nih.gov/geo/download/?acc=GSE171668&format=file&file=GSE171668%5Flung%5Fmetadata%2Ecsv%2Egz\""
   ]
  },
  {
   "cell_type": "code",
   "execution_count": null,
   "metadata": {},
   "outputs": [],
   "source": [
    "# Option 1\n",
    "output = 'query.h5.gz'\n",
    "gdown.download(query_data_url, output, quiet=False)\n",
    "with gzip.open('query.h5.gz', 'rb') as f_in:\n",
    "    with open('query.h5', 'wb') as f_out:\n",
    "        shutil.copyfileobj(f_in, f_out)\n",
    "os.remove(\"query.h5.gz\")"
   ]
  },
  {
   "cell_type": "code",
   "execution_count": null,
   "metadata": {},
   "outputs": [],
   "source": [
    "# Option 2\n",
    "output = 'query.h5.gz'\n",
    "gdown.download(query_data_url, output, quiet=False)\n",
    "with gzip.open('query.h5.gz', 'wrb') as gz:\n",
    "    h5 = gz.read()\n",
    "os.remove(\"query.h5.gz\")"
   ]
  },
  {
   "cell_type": "code",
   "execution_count": null,
   "metadata": {},
   "outputs": [],
   "source": [
    "output = 'query_obs.csv.gz'\n",
    "gdown.download(query_metadata_url, output, quiet=False)"
   ]
  },
  {
   "cell_type": "markdown",
   "metadata": {},
   "source": [
    "## Preprocessing"
   ]
  },
  {
   "cell_type": "code",
   "execution_count": null,
   "metadata": {},
   "outputs": [],
   "source": [
    "query_data_full = sc.read_10x_h5(\"query.h5\")\n",
    "    # clean up .var.index (gene names)\n",
    "query_data_full.var['gene_names'] = query_data_full.var.index\n",
    "query_data_full.var.index = [idx.split(\"___\")[-1] for idx in query_data_full.var.gene_ids]\n",
    "    # clean up cell barcodes:\n",
    "query_data_full.obs.index = query_data_full.obs.index.str.rstrip(\"-1\")\n",
    "    # read in metadata (to select only cells of interest and remove empty drops)\n",
    "query_data_meta = pd.read_csv(\"query_obs.csv.gz\",index_col=0)\n",
    "    # subset to cells from our sample\n",
    "query_data_meta = query_data_meta.loc[query_data_meta.donor == \"D12_4\",:].copy()\n",
    "    # clean up barcodes:\n",
    "query_data_meta.index = [idx.split(\"-\")[-1] for idx in query_data_meta.index]\n",
    "    # subset adata to cells in metadata:\n",
    "query_data_full = query_data_full[query_data_meta.index,:].copy()\n",
    "    # add dataset information:\n",
    "query_data_full.obs['dataset'] = 'test_dataset_delorey_regev'"
   ]
  },
  {
   "cell_type": "code",
   "execution_count": null,
   "metadata": {},
   "outputs": [],
   "source": [
    "# gene order for scArches model\n",
    "reference_gene_order = pd.read_csv('HLCA_reference_model/var_names.csv')\n",
    "# reference embedding, including cell/sample/subject metadata:\n",
    "reference_embedding = sc.read_h5ad('HLCA_emb_and_metadata.h5ad')"
   ]
  },
  {
   "cell_type": "code",
   "execution_count": null,
   "metadata": {},
   "outputs": [],
   "source": [
    "ref_model_path = 'HLCA_reference_model'\n",
    "query_data = sca.models.SCANVI.prepare_query_anndata(query_data_full, ref_model_path, inplace=False)"
   ]
  },
  {
   "cell_type": "code",
   "execution_count": null,
   "metadata": {},
   "outputs": [],
   "source": [
    "query_data.obs['scanvi_label'] = 'unlabeled'"
   ]
  },
  {
   "attachments": {},
   "cell_type": "markdown",
   "metadata": {},
   "source": [
    "## Perform surgery"
   ]
  },
  {
   "cell_type": "code",
   "execution_count": null,
   "metadata": {},
   "outputs": [],
   "source": [
    "batch_key = 'dataset'\n",
    "query_batch = ['test_dataset_delorey_regev']"
   ]
  },
  {
   "cell_type": "code",
   "execution_count": null,
   "metadata": {},
   "outputs": [],
   "source": [
    "surgery_epochs = 500\n",
    "early_stopping_kwargs_surgery = {\n",
    "    \"early_stopping_metric\": \"elbo\",\n",
    "    \"save_best_state_metric\": \"elbo\",\n",
    "    \"on\": \"full_dataset\",\n",
    "    \"patience\": 10,\n",
    "    \"threshold\": 0.001,\n",
    "    \"reduce_lr_on_plateau\": True,\n",
    "    \"lr_patience\": 8,\n",
    "    \"lr_factor\": 0.1,\n",
    "}"
   ]
  },
  {
   "attachments": {},
   "cell_type": "markdown",
   "metadata": {},
   "source": [
    "Surgery"
   ]
  },
  {
   "cell_type": "code",
   "execution_count": null,
   "metadata": {},
   "outputs": [],
   "source": [
    "os.chdir('/notebooks')"
   ]
  },
  {
   "cell_type": "code",
   "execution_count": null,
   "metadata": {},
   "outputs": [],
   "source": [
    "surgery_model = sca.models.SCANVI.load_query_data(\n",
    "        query_data,\n",
    "        ref_model_path,\n",
    "        freeze_dropout = True,\n",
    "    )"
   ]
  },
  {
   "cell_type": "code",
   "execution_count": null,
   "metadata": {},
   "outputs": [],
   "source": [
    "surgery_model._unlabeled_indices = np.arange(query_data.n_obs)\n",
    "surgery_model._labeled_indices = []"
   ]
  },
  {
   "cell_type": "code",
   "execution_count": null,
   "metadata": {},
   "outputs": [],
   "source": [
    "#TODO: Check args\n",
    "surgery_model.train(\n",
    "    n_epochs_semisupervised=surgery_epochs,\n",
    "    train_base_model=False,\n",
    "    semisupervised_trainer_kwargs=dict(\n",
    "        metrics_to_monitor=[\"accuracy\", \"elbo\"], \n",
    "        weight_decay=0,\n",
    "        early_stopping_kwargs=early_stopping_kwargs_surgery\n",
    "    ),\n",
    "    frequency=1\n",
    ")"
   ]
  },
  {
   "cell_type": "code",
   "execution_count": null,
   "metadata": {},
   "outputs": [],
   "source": [
    "surgery_path = 'surgery_model'\n",
    "surgery_model.save(surgery_path, overwrite=True)"
   ]
  },
  {
   "attachments": {},
   "cell_type": "markdown",
   "metadata": {},
   "source": [
    "### Get latent representation"
   ]
  },
  {
   "cell_type": "code",
   "execution_count": null,
   "metadata": {},
   "outputs": [],
   "source": [
    "query_data_latent = sc.AnnData(surgery_model.get_latent_representation(query_data))\n",
    "query_data_latent.obs = query_data.obs.loc[query_data.obs.index,:]"
   ]
  },
  {
   "attachments": {},
   "cell_type": "markdown",
   "metadata": {},
   "source": [
    "# Combine embeddings"
   ]
  },
  {
   "cell_type": "code",
   "execution_count": null,
   "metadata": {},
   "outputs": [],
   "source": [
    "query_data_latent.obs['ref_or_query'] = \"query\"\n",
    "reference_embedding.obs['ref_or_query'] = \"ref\""
   ]
  },
  {
   "cell_type": "code",
   "execution_count": null,
   "metadata": {},
   "outputs": [],
   "source": [
    "combined_emb = reference_embedding.concatenate(query_data_latent, index_unique=None)"
   ]
  },
  {
   "attachments": {},
   "cell_type": "markdown",
   "metadata": {},
   "source": [
    "# UMAP"
   ]
  },
  {
   "cell_type": "code",
   "execution_count": null,
   "metadata": {},
   "outputs": [],
   "source": [
    "sc.pp.neighbors(combined_emb, n_neighbors=30)\n",
    "sc.tl.umap(combined_emb)\n",
    "sc.pl.umap(combined_emb, color=\"ref_or_query\")"
   ]
  },
  {
   "attachments": {},
   "cell_type": "markdown",
   "metadata": {},
   "source": [
    "Saving combined embeddings (optional)"
   ]
  },
  {
   "cell_type": "code",
   "execution_count": null,
   "metadata": {},
   "outputs": [],
   "source": [
    "combined_emb.write_h5ad('../data/combined_embedding.h5ad')"
   ]
  },
  {
   "attachments": {},
   "cell_type": "markdown",
   "metadata": {},
   "source": [
    "# Label transfer"
   ]
  },
  {
   "cell_type": "code",
   "execution_count": null,
   "metadata": {},
   "outputs": [],
   "source": [
    "url = 'https://github.com/LungCellAtlas/mapping_data_to_the_HLCA/blob/main/supporting_files/HLCA_celltypes_ordered.csv'\n",
    "output_celltypes = '../data/HLCA_celltypes_ordered.csv'\n",
    "gdown.download(url, output, quiet=False)\n"
   ]
  },
  {
   "cell_type": "code",
   "execution_count": null,
   "metadata": {},
   "outputs": [],
   "source": [
    "url = 'https://github.com/LungCellAtlas/mapping_data_to_the_HLCA/blob/main/supporting_files/HLCA_scarches_gene_order.csv'\n",
    "output_gene_order = '../data/HLCA_scarches_gene_order.csv'\n",
    "gdown.download(url, output, quiet=False)"
   ]
  },
  {
   "cell_type": "code",
   "execution_count": null,
   "metadata": {},
   "outputs": [],
   "source": [
    "cts_ordered = pd.read_csv(output_celltypes,index_col=0)    "
   ]
  },
  {
   "cell_type": "code",
   "execution_count": null,
   "metadata": {},
   "outputs": [],
   "source": [
    "knn_transformer = sca.utils.knn.weighted_knn_transfer(\n",
    "    train_adata=reference_embedding,\n",
    "    train_adata_emb=\"X\",\n",
    "    n_neighbors=50,\n",
    ")"
   ]
  },
  {
   "cell_type": "code",
   "execution_count": null,
   "metadata": {},
   "outputs": [],
   "source": [
    "labels, uncert = sca.utils.knn.weighted_knn_transfer(\n",
    "    query_adata=query_data_latent,\n",
    "    query_adata_emb=\"X\", # location of our joint embedding\n",
    "    label_keys=\"Level\",\n",
    "    knn_model=knn_transformer,\n",
    "    ref_adata_obs = reference_embedding.obs.join(cts_ordered, on='ann_finest_level')\n",
    "    )"
   ]
  },
  {
   "cell_type": "code",
   "execution_count": null,
   "metadata": {},
   "outputs": [],
   "source": [
    "uncertainty_threshold = 0.2"
   ]
  },
  {
   "cell_type": "code",
   "execution_count": null,
   "metadata": {},
   "outputs": [],
   "source": [
    "labels.rename(columns={f\"Level_{lev}\":f\"Level_{lev}_transfered_label_unfiltered\" for lev in range(1,6)},inplace=True)\n",
    "uncert.rename(columns={f\"Level_{lev}\":f\"Level_{lev}_transfer_uncert\" for lev in range(1,6)},inplace=True)"
   ]
  },
  {
   "cell_type": "code",
   "execution_count": null,
   "metadata": {},
   "outputs": [],
   "source": [
    "combined_emb.obs = combined_emb.obs.join(labels)\n",
    "combined_emb.obs = combined_emb.obs.join(uncert)"
   ]
  },
  {
   "cell_type": "code",
   "execution_count": null,
   "metadata": {},
   "outputs": [],
   "source": [
    "# convert to arrays instead of categoricals, and set \"nan\" to NaN \n",
    "for col in combined_emb.obs.columns:\n",
    "    if col.endswith(\"_transfer_uncert\"):\n",
    "        combined_emb.obs[col] = list(np.array(combined_emb.obs[col]))\n",
    "    elif col.endswith(\"_transfered_label_unfiltered\"):\n",
    "        filtered_colname = col.replace(\"_unfiltered\",\"\")\n",
    "        matching_uncert_col = col.replace(\"transfered_label_unfiltered\",\"transfer_uncert\")\n",
    "        \n",
    "        # also create a filtered version, setting cells with too high \n",
    "        # uncertainty levels to \"Unknown\"\n",
    "        combined_emb.obs[filtered_colname] = combined_emb.obs[col]\n",
    "        combined_emb.obs[filtered_colname].loc[combined_emb.obs[matching_uncert_col]>uncertainty_threshold] = \"Unknown\"\n",
    "        # convert to categorical:\n",
    "        combined_emb.obs[col] = pd.Categorical(combined_emb.obs[col])\n",
    "        combined_emb.obs[filtered_colname] = pd.Categorical(combined_emb.obs[filtered_colname])\n",
    "        # then replace \"nan\" with NaN (that makes colors better in umap)\n",
    "        combined_emb.obs[col].replace(\"nan\",np.nan,inplace=True)\n",
    "        combined_emb.obs[filtered_colname].replace(\"nan\",np.nan,inplace=True)"
   ]
  },
  {
   "cell_type": "code",
   "execution_count": null,
   "metadata": {},
   "outputs": [],
   "source": [
    "print(f\"Percentage of unknown per level, with uncertainty_threshold={uncertainty_threshold}:\")\n",
    "for level in range(1,6):\n",
    "    print(f\"Level {level}: {np.round(sum(combined_emb.obs[f'Level_{level}_transfered_label'] =='Unknown')/query_data.n_obs*100,2)}%\")"
   ]
  },
  {
   "attachments": {},
   "cell_type": "markdown",
   "metadata": {},
   "source": [
    "### UMAP Uncertainties "
   ]
  },
  {
   "cell_type": "code",
   "execution_count": null,
   "metadata": {},
   "outputs": [],
   "source": [
    "sc.pl.umap(\n",
    "    combined_emb,\n",
    "    color=[f\"Level_{lev}_transfer_uncert\" for lev in range(1,6)],\n",
    "    ncols=5)"
   ]
  },
  {
   "cell_type": "code",
   "execution_count": null,
   "metadata": {},
   "outputs": [],
   "source": [
    "sc.pl.umap(\n",
    "    combined_emb,\n",
    "    color=[f\"Level_{lev}_transfer_uncert\" for lev in range(1,6)],\n",
    "    ncols=5)"
   ]
  },
  {
   "cell_type": "code",
   "execution_count": null,
   "metadata": {},
   "outputs": [],
   "source": [
    "sc.pl.umap(\n",
    "    combined_emb,\n",
    "    color=\"ann_finest_level\")"
   ]
  },
  {
   "cell_type": "code",
   "execution_count": null,
   "metadata": {},
   "outputs": [],
   "source": [
    "combined_emb.write_h5ad('../data',\"combined_embedding_labels.h5ad\")"
   ]
  }
 ],
 "metadata": {
  "kernelspec": {
   "display_name": "Python 3",
   "language": "python",
   "name": "python3"
  },
  "language_info": {
   "codemirror_mode": {
    "name": "ipython",
    "version": 3
   },
   "file_extension": ".py",
   "mimetype": "text/x-python",
   "name": "python",
   "nbconvert_exporter": "python",
   "pygments_lexer": "ipython3",
   "version": "3.9.5"
  },
  "orig_nbformat": 4,
  "vscode": {
   "interpreter": {
    "hash": "f9f85f796d01129d0dd105a088854619f454435301f6ffec2fea96ecbd9be4ac"
   }
  }
 },
 "nbformat": 4,
 "nbformat_minor": 2
}
