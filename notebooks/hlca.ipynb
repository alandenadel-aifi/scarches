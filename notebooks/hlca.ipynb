{
 "cells": [
  {
   "cell_type": "markdown",
   "metadata": {},
   "source": [
    "# Mapping and classifying cells using Human Lung Cell Atlas"
   ]
  },
  {
   "cell_type": "markdown",
   "metadata": {},
   "source": [
    "## Environment Setup"
   ]
  },
  {
   "cell_type": "code",
   "execution_count": null,
   "metadata": {},
   "outputs": [],
   "source": [
    "import os\n",
    "\n",
    "import warnings\n",
    "warnings.simplefilter(action=\"ignore\", category=FutureWarning)\n",
    "warnings.simplefilter(action=\"ignore\", category=UserWarning)"
   ]
  },
  {
   "cell_type": "code",
   "execution_count": 2,
   "metadata": {},
   "outputs": [
    {
     "ename": "ModuleNotFoundError",
     "evalue": "No module named 'scarches'",
     "output_type": "error",
     "traceback": [
      "\u001b[1;31m---------------------------------------------------------------------------\u001b[0m",
      "\u001b[1;31mModuleNotFoundError\u001b[0m                       Traceback (most recent call last)",
      "Cell \u001b[1;32mIn [2], line 4\u001b[0m\n\u001b[0;32m      2\u001b[0m \u001b[39mimport\u001b[39;00m \u001b[39mnumpy\u001b[39;00m \u001b[39mas\u001b[39;00m \u001b[39mnp\u001b[39;00m\n\u001b[0;32m      3\u001b[0m \u001b[39mimport\u001b[39;00m \u001b[39mpandas\u001b[39;00m \u001b[39mas\u001b[39;00m \u001b[39mpd\u001b[39;00m\n\u001b[1;32m----> 4\u001b[0m \u001b[39mimport\u001b[39;00m \u001b[39mscarches\u001b[39;00m \u001b[39mas\u001b[39;00m \u001b[39msca\u001b[39;00m\n\u001b[0;32m      5\u001b[0m \u001b[39mimport\u001b[39;00m \u001b[39mgdown\u001b[39;00m\n\u001b[0;32m      6\u001b[0m \u001b[39mimport\u001b[39;00m \u001b[39mgzip\u001b[39;00m\n",
      "\u001b[1;31mModuleNotFoundError\u001b[0m: No module named 'scarches'"
     ]
    }
   ],
   "source": [
    "import scanpy as sc\n",
    "import numpy as np\n",
    "import pandas as pd\n",
    "import scarches as sca\n",
    "import gdown\n",
    "import gzip\n",
    "import shutil"
   ]
  },
  {
   "cell_type": "code",
   "execution_count": null,
   "metadata": {},
   "outputs": [],
   "source": [
    "sc.logging.print_versions()"
   ]
  },
  {
   "cell_type": "markdown",
   "metadata": {},
   "source": [
    "## Download Files - Reference model, Embeddings etc."
   ]
  },
  {
   "cell_type": "code",
   "execution_count": null,
   "metadata": {},
   "outputs": [],
   "source": [
    "if not os.path.isdir(\"../data\"):\n",
    "    os.mkdir(\"../data\")    "
   ]
  },
  {
   "cell_type": "code",
   "execution_count": null,
   "metadata": {},
   "outputs": [],
   "source": [
    "os.chdir('../data')"
   ]
  },
  {
   "cell_type": "code",
   "execution_count": null,
   "metadata": {},
   "outputs": [],
   "source": [
    "url = 'https://zenodo.org/record/6337966/files/HLCA_emb_and_metadata.h5ad'\n",
    "output = 'HLCA_emb_and_metadata.h5ad'\n",
    "gdown.download(url, output, quiet=False)"
   ]
  },
  {
   "cell_type": "code",
   "execution_count": null,
   "metadata": {},
   "outputs": [],
   "source": [
    "url = 'https://zenodo.org/record/6337966/files/HLCA_reference_model.zip'\n",
    "output = 'HLCA_reference_model.zip'\n",
    "gdown.download(url, output, quiet=False)\n",
    "shutil.unpack_archive('HLCA_reference_model.zip')\n",
    "os.remove(output)"
   ]
  },
  {
   "cell_type": "markdown",
   "metadata": {},
   "source": [
    "## Download query data"
   ]
  },
  {
   "cell_type": "code",
   "execution_count": null,
   "metadata": {},
   "outputs": [],
   "source": [
    "query_data_url = \"https://www.ncbi.nlm.nih.gov/geo/download/?acc=GSM5230027&format=file&file=GSM5230027%5F04%2DP103142%2DS149%2DR01%5Fraw%5Ffeature%5Fbc%5Fmatrix%2Eh5%2Egz\"\n",
    "query_metadata_url = \"https://www.ncbi.nlm.nih.gov/geo/download/?acc=GSE171668&format=file&file=GSE171668%5Flung%5Fmetadata%2Ecsv%2Egz\""
   ]
  },
  {
   "cell_type": "code",
   "execution_count": null,
   "metadata": {},
   "outputs": [],
   "source": [
    "output = 'query.h5.gz'\n",
    "gdown.download(query_data_url, output, quiet=False)\n",
    "with gzip.open('query.h5.gz', 'rb') as f_in:\n",
    "    with open('query.h5', 'wb') as f_out:\n",
    "        shutil.copyfileobj(f_in, f_out)\n",
    "os.remove(\"query.h5.gz\")"
   ]
  },
  {
   "cell_type": "code",
   "execution_count": null,
   "metadata": {},
   "outputs": [],
   "source": [
    "output = 'query_obs.csv.gz'\n",
    "gdown.download(query_metadata_url, output, quiet=False)"
   ]
  },
  {
   "cell_type": "markdown",
   "metadata": {},
   "source": [
    "## Preprocessing"
   ]
  },
  {
   "cell_type": "code",
   "execution_count": null,
   "metadata": {},
   "outputs": [],
   "source": [
    "query_data_full = sc.read_10x_h5(\"query.h5\")\n",
    "    # clean up .var.index (gene names)\n",
    "query_data_full.var['gene_names'] = query_data_full.var.index\n",
    "query_data_full.var.index = [idx.split(\"___\")[-1] for idx in query_data_full.var.gene_ids]\n",
    "    # clean up cell barcodes:\n",
    "query_data_full.obs.index = query_data_full.obs.index.str.rstrip(\"-1\")\n",
    "    # read in metadata (to select only cells of interest and remove empty drops)\n",
    "query_data_meta = pd.read_csv(\"query_obs.csv.gz\",index_col=0)\n",
    "    # subset to cells from our sample\n",
    "query_data_meta = query_data_meta.loc[query_data_meta.donor == \"D12_4\",:].copy()\n",
    "    # clean up barcodes:\n",
    "query_data_meta.index = [idx.split(\"-\")[-1] for idx in query_data_meta.index]\n",
    "    # subset adata to cells in metadata:\n",
    "query_data_full = query_data_full[query_data_meta.index,:].copy()\n",
    "    # add dataset information:\n",
    "query_data_full.obs['dataset'] = 'test_dataset_delorey_regev'"
   ]
  },
  {
   "cell_type": "code",
   "execution_count": null,
   "metadata": {},
   "outputs": [],
   "source": [
    "# gene order for scArches model\n",
    "reference_gene_order = pd.read_csv('HLCA_reference_model/var_names.csv')\n",
    "# reference embedding, including cell/sample/subject metadata:\n",
    "reference_embedding = sc.read_h5ad('HLCA_emb_and_metadata.h5ad')"
   ]
  },
  {
   "cell_type": "code",
   "execution_count": null,
   "metadata": {},
   "outputs": [],
   "source": [
    "ref_model_path = 'HLCA_reference_model'\n",
    "query_data = sca.models.SCANVI.prepare_query_anndata(query_data_full, ref_model_path, inplace=False)"
   ]
  },
  {
   "cell_type": "code",
   "execution_count": null,
   "metadata": {},
   "outputs": [],
   "source": [
    "query_data.obs['scanvi_label'] = 'unlabeled'"
   ]
  },
  {
   "attachments": {},
   "cell_type": "markdown",
   "metadata": {},
   "source": [
    "## Perform surgery"
   ]
  },
  {
   "cell_type": "code",
   "execution_count": null,
   "metadata": {},
   "outputs": [],
   "source": [
    "batch_key = 'dataset'\n",
    "query_batch = ['test_dataset_delorey_regev']"
   ]
  },
  {
   "cell_type": "code",
   "execution_count": null,
   "metadata": {},
   "outputs": [],
   "source": [
    "surgery_epochs = 500\n",
    "early_stopping_kwargs_surgery = {\n",
    "    \"early_stopping_metric\": \"elbo\",\n",
    "    \"save_best_state_metric\": \"elbo\",\n",
    "    \"on\": \"full_dataset\",\n",
    "    \"patience\": 10,\n",
    "    \"threshold\": 0.001,\n",
    "    \"reduce_lr_on_plateau\": True,\n",
    "    \"lr_patience\": 8,\n",
    "    \"lr_factor\": 0.1,\n",
    "}"
   ]
  },
  {
   "attachments": {},
   "cell_type": "markdown",
   "metadata": {},
   "source": [
    "Surgery"
   ]
  },
  {
   "cell_type": "code",
   "execution_count": null,
   "metadata": {},
   "outputs": [],
   "source": [
    "os.chdir('/notebooks')"
   ]
  },
  {
   "cell_type": "code",
   "execution_count": null,
   "metadata": {},
   "outputs": [],
   "source": [
    "surgery_model = sca.models.SCANVI.load_query_data(\n",
    "        query_data,\n",
    "        ref_model_path,\n",
    "        freeze_dropout = True,\n",
    "    )"
   ]
  },
  {
   "cell_type": "code",
   "execution_count": null,
   "metadata": {},
   "outputs": [],
   "source": [
    "# surgery_model._unlabeled_indices = np.arange(query_data.n_obs)\n",
    "# surgery_model._labeled_indices = []"
   ]
  },
  {
   "cell_type": "code",
   "execution_count": null,
   "metadata": {},
   "outputs": [],
   "source": [
    "#TODO: Check args\n",
    "surgery_model.train(\n",
    "    max_epochs=surgery_epochs,\n",
    "    **early_stopping_kwargs_surgery\n",
    ")"
   ]
  },
  {
   "cell_type": "code",
   "execution_count": null,
   "metadata": {},
   "outputs": [],
   "source": [
    "surgery_path = 'surgery_model'\n",
    "surgery_model.save(surgery_path, overwrite=True)"
   ]
  },
  {
   "attachments": {},
   "cell_type": "markdown",
   "metadata": {},
   "source": [
    "## ..."
   ]
  },
  {
   "cell_type": "code",
   "execution_count": null,
   "metadata": {},
   "outputs": [],
   "source": [
    "sca.utils.knn.weighted_knn_transfer()"
   ]
  }
 ],
 "metadata": {
  "kernelspec": {
   "display_name": "Python 3",
   "language": "python",
   "name": "python3"
  },
  "language_info": {
   "codemirror_mode": {
    "name": "ipython",
    "version": 3
   },
   "file_extension": ".py",
   "mimetype": "text/x-python",
   "name": "python",
   "nbconvert_exporter": "python",
   "pygments_lexer": "ipython3",
   "version": "3.10.9"
  },
  "orig_nbformat": 4,
  "vscode": {
   "interpreter": {
    "hash": "0d0826b183675a0cf7c16b749b4722f37b84bdc521a26cf9051b62721bab59a9"
   }
  }
 },
 "nbformat": 4,
 "nbformat_minor": 2
}
