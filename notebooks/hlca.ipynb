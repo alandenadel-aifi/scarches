{
 "cells": [
  {
   "cell_type": "markdown",
   "metadata": {},
   "source": [
    "# Mapping and classifying cells using Human Lung Cell Atlas"
   ]
  },
  {
   "cell_type": "markdown",
   "metadata": {},
   "source": [
    "## Environment Setup"
   ]
  },
  {
   "cell_type": "code",
   "execution_count": 1,
   "metadata": {},
   "outputs": [],
   "source": [
    "import os\n",
    "\n",
    "import warnings\n",
    "warnings.simplefilter(action=\"ignore\", category=FutureWarning)\n",
    "warnings.simplefilter(action=\"ignore\", category=UserWarning)"
   ]
  },
  {
   "cell_type": "code",
   "execution_count": 2,
   "metadata": {},
   "outputs": [
    {
     "name": "stderr",
     "output_type": "stream",
     "text": [
      "WARNING:root:In order to use the mouse gastrulation seqFISH datsets, please install squidpy (see https://github.com/scverse/squidpy).\n",
      "WARNING:root:In order to use sagenet models, please install pytorch geometric (see https://pytorch-geometric.readthedocs.io) and \n",
      " captum (see https://github.com/pytorch/captum).\n",
      "INFO:pytorch_lightning.utilities.seed:Global seed set to 0\n",
      "WARNING:root:multigrate is not installed. To use multigrate models, please install it first using \"pip install multigrate\".\n"
     ]
    }
   ],
   "source": [
    "import scanpy as sc\n",
    "import numpy as np\n",
    "import pandas as pd\n",
    "import scarches as sca\n",
    "import gdown\n",
    "import gzip\n",
    "import shutil"
   ]
  },
  {
   "cell_type": "code",
   "execution_count": 3,
   "metadata": {},
   "outputs": [
    {
     "name": "stdout",
     "output_type": "stream",
     "text": [
      "-----\n",
      "anndata     0.8.0\n",
      "scanpy      1.9.1\n",
      "-----\n",
      "PIL                 9.3.0\n",
      "absl                NA\n",
      "asttokens           NA\n",
      "attr                22.1.0\n",
      "backcall            0.2.0\n",
      "boto3               1.26.7\n",
      "botocore            1.29.7\n",
      "bs4                 4.11.1\n",
      "certifi             2022.09.24\n",
      "charset_normalizer  2.1.1\n",
      "chex                0.1.5\n",
      "cycler              0.10.0\n",
      "cython_runtime      NA\n",
      "dateutil            2.8.2\n",
      "debugpy             1.6.3\n",
      "decorator           5.1.1\n",
      "deprecate           0.3.1\n",
      "docrep              0.3.2\n",
      "entrypoints         0.4\n",
      "executing           1.2.0\n",
      "filelock            3.8.0\n",
      "flax                0.6.1\n",
      "fsspec              2022.11.0\n",
      "gdown               4.4.0\n",
      "google              NA\n",
      "h5py                3.7.0\n",
      "idna                3.4\n",
      "igraph              0.9.11\n",
      "ipykernel           6.17.1\n",
      "ipywidgets          8.0.2\n",
      "jax                 0.3.24\n",
      "jaxlib              0.3.24\n",
      "jedi                0.18.1\n",
      "jmespath            1.0.1\n",
      "joblib              1.2.0\n",
      "kiwisolver          1.4.4\n",
      "leidenalg           0.8.9\n",
      "llvmlite            0.39.1\n",
      "matplotlib          3.6.2\n",
      "matplotlib_inline   0.1.6\n",
      "mpl_toolkits        NA\n",
      "msgpack             1.0.4\n",
      "multipledispatch    0.6.0\n",
      "natsort             8.2.0\n",
      "newick              1.0.0\n",
      "numba               0.56.4\n",
      "numpy               1.21.6\n",
      "numpyro             0.10.1\n",
      "opt_einsum          v3.3.0\n",
      "optax               0.1.3\n",
      "packaging           21.3\n",
      "pandas              1.5.1\n",
      "parso               0.8.3\n",
      "pexpect             4.8.0\n",
      "pickleshare         0.7.5\n",
      "pkg_resources       NA\n",
      "platformdirs        2.5.3\n",
      "prompt_toolkit      3.0.32\n",
      "psutil              5.9.4\n",
      "ptyprocess          0.7.0\n",
      "pure_eval           0.2.2\n",
      "pydev_ipython       NA\n",
      "pydevconsole        NA\n",
      "pydevd              2.8.0\n",
      "pydevd_file_utils   NA\n",
      "pydevd_plugins      NA\n",
      "pydevd_tracing      NA\n",
      "pyexpat             NA\n",
      "pygments            2.13.0\n",
      "pyparsing           3.0.9\n",
      "pyro                1.8.2\n",
      "pytorch_lightning   1.5.10\n",
      "pytz                2022.6\n",
      "requests            2.28.1\n",
      "rich                NA\n",
      "scHPL               NA\n",
      "scarches            0.5.5\n",
      "scipy               1.9.3\n",
      "scvi                0.16.1\n",
      "seaborn             0.12.1\n",
      "session_info        1.0.0\n",
      "sitecustomize       NA\n",
      "six                 1.16.0\n",
      "sklearn             1.1.3\n",
      "soupsieve           2.3.2.post1\n",
      "stack_data          0.6.0\n",
      "statsmodels         0.13.5\n",
      "tcr_embedding       NA\n",
      "tensorboard         2.11.0\n",
      "texttable           1.6.4\n",
      "threadpoolctl       3.1.0\n",
      "toolz               0.12.0\n",
      "torch               1.11.0+cu102\n",
      "torchmetrics        0.10.2\n",
      "torchvision         0.14.0+cu117\n",
      "tornado             6.2\n",
      "tqdm                4.64.1\n",
      "traitlets           5.5.0\n",
      "tree                0.1.7\n",
      "typing_extensions   NA\n",
      "urllib3             1.26.12\n",
      "wcwidth             0.2.5\n",
      "yaml                6.0\n",
      "zmq                 24.0.1\n",
      "-----\n",
      "IPython             8.6.0\n",
      "jupyter_client      7.4.5\n",
      "jupyter_core        5.0.0\n",
      "-----\n",
      "Python 3.9.5 (default, Nov 23 2021, 15:27:38) [GCC 9.3.0]\n",
      "Linux-5.10.16.3-microsoft-standard-WSL2-x86_64-with-glibc2.31\n",
      "-----\n",
      "Session information updated at 2022-12-22 13:49\n"
     ]
    }
   ],
   "source": [
    "sc.logging.print_versions()"
   ]
  },
  {
   "cell_type": "markdown",
   "metadata": {},
   "source": [
    "## Download Files - Reference model, Embeddings etc."
   ]
  },
  {
   "cell_type": "code",
   "execution_count": null,
   "metadata": {},
   "outputs": [],
   "source": [
    "# if not os.path.isdir(\"../data\"):\n",
    "#     os.mkdir(\"../data\")    "
   ]
  },
  {
   "cell_type": "code",
   "execution_count": null,
   "metadata": {},
   "outputs": [],
   "source": [
    "# os.chdir('../data')"
   ]
  },
  {
   "cell_type": "code",
   "execution_count": 4,
   "metadata": {},
   "outputs": [
    {
     "name": "stderr",
     "output_type": "stream",
     "text": [
      "Downloading...\n",
      "From: https://zenodo.org/record/6337966/files/HLCA_emb_and_metadata.h5ad\n",
      "To: /mnt/c/Helmholtz/scarches/notebooks/HLCA_emb_and_metadata.h5ad\n",
      "100%|██████████| 218M/218M [04:57<00:00, 733kB/s] \n"
     ]
    },
    {
     "data": {
      "text/plain": [
       "'HLCA_emb_and_metadata.h5ad'"
      ]
     },
     "execution_count": 4,
     "metadata": {},
     "output_type": "execute_result"
    }
   ],
   "source": [
    "url = 'https://zenodo.org/record/6337966/files/HLCA_emb_and_metadata.h5ad'\n",
    "output = 'HLCA_emb_and_metadata.h5ad'\n",
    "gdown.download(url, output, quiet=False)"
   ]
  },
  {
   "cell_type": "code",
   "execution_count": 5,
   "metadata": {},
   "outputs": [
    {
     "name": "stderr",
     "output_type": "stream",
     "text": [
      "Downloading...\n",
      "From: https://zenodo.org/record/6337966/files/HLCA_reference_model.zip\n",
      "To: /mnt/c/Helmholtz/scarches/notebooks/HLCA_reference_model.zip\n",
      "100%|██████████| 5.32M/5.32M [00:07<00:00, 729kB/s]\n"
     ]
    }
   ],
   "source": [
    "url = 'https://zenodo.org/record/6337966/files/HLCA_reference_model.zip'\n",
    "output = 'HLCA_reference_model.zip'\n",
    "gdown.download(url, output, quiet=False)\n",
    "shutil.unpack_archive('HLCA_reference_model.zip')\n",
    "os.remove(output)"
   ]
  },
  {
   "cell_type": "markdown",
   "metadata": {},
   "source": [
    "## Download query data"
   ]
  },
  {
   "cell_type": "code",
   "execution_count": 6,
   "metadata": {},
   "outputs": [],
   "source": [
    "query_data_url = \"https://www.ncbi.nlm.nih.gov/geo/download/?acc=GSM5230027&format=file&file=GSM5230027%5F04%2DP103142%2DS149%2DR01%5Fraw%5Ffeature%5Fbc%5Fmatrix%2Eh5%2Egz\"\n",
    "query_metadata_url = \"https://www.ncbi.nlm.nih.gov/geo/download/?acc=GSE171668&format=file&file=GSE171668%5Flung%5Fmetadata%2Ecsv%2Egz\""
   ]
  },
  {
   "cell_type": "code",
   "execution_count": 7,
   "metadata": {},
   "outputs": [
    {
     "name": "stderr",
     "output_type": "stream",
     "text": [
      "Downloading...\n",
      "From: https://www.ncbi.nlm.nih.gov/geo/download/?acc=GSM5230027&format=file&file=GSM5230027%5F04%2DP103142%2DS149%2DR01%5Fraw%5Ffeature%5Fbc%5Fmatrix%2Eh5%2Egz\n",
      "To: /mnt/c/Helmholtz/scarches/notebooks/query.h5.gz\n",
      "100%|██████████| 27.4M/27.4M [00:02<00:00, 13.3MB/s]\n"
     ]
    }
   ],
   "source": [
    "output = 'query.h5.gz'\n",
    "gdown.download(query_data_url, output, quiet=False)\n",
    "with gzip.open('query.h5.gz', 'rb') as f_in:\n",
    "    with open('query.h5', 'wb') as f_out:\n",
    "        shutil.copyfileobj(f_in, f_out)\n",
    "os.remove(\"query.h5.gz\")"
   ]
  },
  {
   "cell_type": "code",
   "execution_count": 9,
   "metadata": {},
   "outputs": [
    {
     "name": "stderr",
     "output_type": "stream",
     "text": [
      "Downloading...\n",
      "From: https://www.ncbi.nlm.nih.gov/geo/download/?acc=GSE171668&format=file&file=GSE171668%5Flung%5Fmetadata%2Ecsv%2Egz\n",
      "To: /mnt/c/Helmholtz/scarches/notebooks/query_obs.csv.gz\n",
      "100%|██████████| 1.95M/1.95M [00:00<00:00, 2.45MB/s]\n"
     ]
    },
    {
     "data": {
      "text/plain": [
       "'query_obs.csv.gz'"
      ]
     },
     "execution_count": 9,
     "metadata": {},
     "output_type": "execute_result"
    }
   ],
   "source": [
    "output = 'query_obs.csv.gz'\n",
    "gdown.download(query_metadata_url, output, quiet=False)"
   ]
  },
  {
   "cell_type": "markdown",
   "metadata": {},
   "source": [
    "## Preprocessing"
   ]
  },
  {
   "cell_type": "code",
   "execution_count": 10,
   "metadata": {},
   "outputs": [],
   "source": [
    "query_data_full = sc.read_10x_h5(\"query.h5\")\n",
    "    # clean up .var.index (gene names)\n",
    "query_data_full.var['gene_names'] = query_data_full.var.index\n",
    "query_data_full.var.index = [idx.split(\"___\")[-1] for idx in query_data_full.var.gene_ids]\n",
    "    # clean up cell barcodes:\n",
    "query_data_full.obs.index = query_data_full.obs.index.str.rstrip(\"-1\")\n",
    "    # read in metadata (to select only cells of interest and remove empty drops)\n",
    "query_data_meta = pd.read_csv(\"query_obs.csv.gz\",index_col=0)\n",
    "    # subset to cells from our sample\n",
    "query_data_meta = query_data_meta.loc[query_data_meta.donor == \"D12_4\",:].copy()\n",
    "    # clean up barcodes:\n",
    "query_data_meta.index = [idx.split(\"-\")[-1] for idx in query_data_meta.index]\n",
    "    # subset adata to cells in metadata:\n",
    "query_data_full = query_data_full[query_data_meta.index,:].copy()\n",
    "    # add dataset information:\n",
    "query_data_full.obs['dataset'] = 'test_dataset_delorey_regev'"
   ]
  },
  {
   "cell_type": "code",
   "execution_count": 11,
   "metadata": {},
   "outputs": [],
   "source": [
    "# gene order for scArches model\n",
    "reference_gene_order = pd.read_csv('HLCA_reference_model/var_names.csv')\n",
    "# reference embedding, including cell/sample/subject metadata:\n",
    "reference_embedding = sc.read_h5ad('HLCA_emb_and_metadata.h5ad')"
   ]
  },
  {
   "cell_type": "code",
   "execution_count": 13,
   "metadata": {},
   "outputs": [
    {
     "ename": "ValueError",
     "evalue": "unknown url type: 'None'",
     "output_type": "error",
     "traceback": [
      "\u001b[0;31m---------------------------------------------------------------------------\u001b[0m",
      "\u001b[0;31mValueError\u001b[0m                                Traceback (most recent call last)",
      "Cell \u001b[0;32mIn [13], line 2\u001b[0m\n\u001b[1;32m      1\u001b[0m ref_model_path \u001b[39m=\u001b[39m \u001b[39m'\u001b[39m\u001b[39mHLCA_reference_model\u001b[39m\u001b[39m'\u001b[39m\n\u001b[0;32m----> 2\u001b[0m query_data \u001b[39m=\u001b[39m sca\u001b[39m.\u001b[39;49mmodels\u001b[39m.\u001b[39;49mSCANVI\u001b[39m.\u001b[39;49mprepare_query_anndata(\n\u001b[1;32m      3\u001b[0m     adata \u001b[39m=\u001b[39;49m query_data_full,\n\u001b[1;32m      4\u001b[0m     reference_model \u001b[39m=\u001b[39;49m ref_model_path,\n\u001b[1;32m      5\u001b[0m     inplace\u001b[39m=\u001b[39;49m\u001b[39mFalse\u001b[39;49;00m)\n",
      "File \u001b[0;32m~/.local/lib/python3.9/site-packages/scvi/model/base/_archesmixin.py:186\u001b[0m, in \u001b[0;36mArchesMixin.prepare_query_anndata\u001b[0;34m(adata, reference_model, return_reference_var_names, inplace)\u001b[0m\n\u001b[1;32m    154\u001b[0m \u001b[39m@staticmethod\u001b[39m\n\u001b[1;32m    155\u001b[0m \u001b[39mdef\u001b[39;00m \u001b[39mprepare_query_anndata\u001b[39m(\n\u001b[1;32m    156\u001b[0m     adata: AnnData,\n\u001b[0;32m   (...)\u001b[0m\n\u001b[1;32m    159\u001b[0m     inplace: \u001b[39mbool\u001b[39m \u001b[39m=\u001b[39m \u001b[39mTrue\u001b[39;00m,\n\u001b[1;32m    160\u001b[0m ) \u001b[39m-\u001b[39m\u001b[39m>\u001b[39m Optional[Union[AnnData, pd\u001b[39m.\u001b[39mIndex]]:\n\u001b[1;32m    161\u001b[0m     \u001b[39m\"\"\"\u001b[39;00m\n\u001b[1;32m    162\u001b[0m \u001b[39m    Prepare data for query integration.\u001b[39;00m\n\u001b[1;32m    163\u001b[0m \n\u001b[0;32m   (...)\u001b[0m\n\u001b[1;32m    184\u001b[0m \u001b[39m    in which case a pd.Index of reference var names is returned.\u001b[39;00m\n\u001b[1;32m    185\u001b[0m \u001b[39m    \"\"\"\u001b[39;00m\n\u001b[0;32m--> 186\u001b[0m     _, var_names, _ \u001b[39m=\u001b[39m _get_loaded_data(reference_model, device\u001b[39m=\u001b[39;49m\u001b[39m\"\u001b[39;49m\u001b[39mcpu\u001b[39;49m\u001b[39m\"\u001b[39;49m)\n\u001b[1;32m    187\u001b[0m     var_names \u001b[39m=\u001b[39m pd\u001b[39m.\u001b[39mIndex(var_names)\n\u001b[1;32m    189\u001b[0m     \u001b[39mif\u001b[39;00m return_reference_var_names:\n",
      "File \u001b[0;32m~/.local/lib/python3.9/site-packages/scvi/model/base/_archesmixin.py:315\u001b[0m, in \u001b[0;36m_get_loaded_data\u001b[0;34m(reference_model, device)\u001b[0m\n\u001b[1;32m    313\u001b[0m \u001b[39mdef\u001b[39;00m \u001b[39m_get_loaded_data\u001b[39m(reference_model, device\u001b[39m=\u001b[39m\u001b[39mNone\u001b[39;00m):\n\u001b[1;32m    314\u001b[0m     \u001b[39mif\u001b[39;00m \u001b[39misinstance\u001b[39m(reference_model, \u001b[39mstr\u001b[39m):\n\u001b[0;32m--> 315\u001b[0m         attr_dict, var_names, load_state_dict, _ \u001b[39m=\u001b[39m _load_saved_files(\n\u001b[1;32m    316\u001b[0m             reference_model, load_adata\u001b[39m=\u001b[39;49m\u001b[39mFalse\u001b[39;49;00m, map_location\u001b[39m=\u001b[39;49mdevice\n\u001b[1;32m    317\u001b[0m         )\n\u001b[1;32m    318\u001b[0m     \u001b[39melse\u001b[39;00m:\n\u001b[1;32m    319\u001b[0m         attr_dict \u001b[39m=\u001b[39m reference_model\u001b[39m.\u001b[39m_get_user_attributes()\n",
      "File \u001b[0;32m~/.local/lib/python3.9/site-packages/scvi/model/base/_utils.py:65\u001b[0m, in \u001b[0;36m_load_saved_files\u001b[0;34m(dir_path, load_adata, prefix, map_location, backup_url)\u001b[0m\n\u001b[1;32m     63\u001b[0m model_path \u001b[39m=\u001b[39m os\u001b[39m.\u001b[39mpath\u001b[39m.\u001b[39mjoin(dir_path, model_file_name)\n\u001b[1;32m     64\u001b[0m \u001b[39mtry\u001b[39;00m:\n\u001b[0;32m---> 65\u001b[0m     _download(backup_url, dir_path, model_file_name)\n\u001b[1;32m     66\u001b[0m     model \u001b[39m=\u001b[39m torch\u001b[39m.\u001b[39mload(model_path, map_location\u001b[39m=\u001b[39mmap_location)\n\u001b[1;32m     67\u001b[0m \u001b[39mexcept\u001b[39;00m \u001b[39mFileNotFoundError\u001b[39;00m \u001b[39mas\u001b[39;00m exc:\n",
      "File \u001b[0;32m~/.local/lib/python3.9/site-packages/scvi/data/_download.py:17\u001b[0m, in \u001b[0;36m_download\u001b[0;34m(url, save_path, filename)\u001b[0m\n\u001b[1;32m     15\u001b[0m     logger\u001b[39m.\u001b[39minfo(\u001b[39m\"\u001b[39m\u001b[39mFile \u001b[39m\u001b[39m%s\u001b[39;00m\u001b[39m already downloaded\u001b[39m\u001b[39m\"\u001b[39m \u001b[39m%\u001b[39m (os\u001b[39m.\u001b[39mpath\u001b[39m.\u001b[39mjoin(save_path, filename)))\n\u001b[1;32m     16\u001b[0m     \u001b[39mreturn\u001b[39;00m\n\u001b[0;32m---> 17\u001b[0m req \u001b[39m=\u001b[39m urllib\u001b[39m.\u001b[39;49mrequest\u001b[39m.\u001b[39;49mRequest(url, headers\u001b[39m=\u001b[39;49m{\u001b[39m\"\u001b[39;49m\u001b[39mUser-Agent\u001b[39;49m\u001b[39m\"\u001b[39;49m: \u001b[39m\"\u001b[39;49m\u001b[39mMagic Browser\u001b[39;49m\u001b[39m\"\u001b[39;49m})\n\u001b[1;32m     18\u001b[0m \u001b[39mtry\u001b[39;00m:\n\u001b[1;32m     19\u001b[0m     r \u001b[39m=\u001b[39m urllib\u001b[39m.\u001b[39mrequest\u001b[39m.\u001b[39murlopen(req)\n",
      "File \u001b[0;32m/usr/lib/python3.9/urllib/request.py:320\u001b[0m, in \u001b[0;36mRequest.__init__\u001b[0;34m(self, url, data, headers, origin_req_host, unverifiable, method)\u001b[0m\n\u001b[1;32m    317\u001b[0m \u001b[39mdef\u001b[39;00m \u001b[39m__init__\u001b[39m(\u001b[39mself\u001b[39m, url, data\u001b[39m=\u001b[39m\u001b[39mNone\u001b[39;00m, headers\u001b[39m=\u001b[39m{},\n\u001b[1;32m    318\u001b[0m              origin_req_host\u001b[39m=\u001b[39m\u001b[39mNone\u001b[39;00m, unverifiable\u001b[39m=\u001b[39m\u001b[39mFalse\u001b[39;00m,\n\u001b[1;32m    319\u001b[0m              method\u001b[39m=\u001b[39m\u001b[39mNone\u001b[39;00m):\n\u001b[0;32m--> 320\u001b[0m     \u001b[39mself\u001b[39;49m\u001b[39m.\u001b[39;49mfull_url \u001b[39m=\u001b[39m url\n\u001b[1;32m    321\u001b[0m     \u001b[39mself\u001b[39m\u001b[39m.\u001b[39mheaders \u001b[39m=\u001b[39m {}\n\u001b[1;32m    322\u001b[0m     \u001b[39mself\u001b[39m\u001b[39m.\u001b[39munredirected_hdrs \u001b[39m=\u001b[39m {}\n",
      "File \u001b[0;32m/usr/lib/python3.9/urllib/request.py:346\u001b[0m, in \u001b[0;36mRequest.full_url\u001b[0;34m(self, url)\u001b[0m\n\u001b[1;32m    344\u001b[0m \u001b[39mself\u001b[39m\u001b[39m.\u001b[39m_full_url \u001b[39m=\u001b[39m unwrap(url)\n\u001b[1;32m    345\u001b[0m \u001b[39mself\u001b[39m\u001b[39m.\u001b[39m_full_url, \u001b[39mself\u001b[39m\u001b[39m.\u001b[39mfragment \u001b[39m=\u001b[39m _splittag(\u001b[39mself\u001b[39m\u001b[39m.\u001b[39m_full_url)\n\u001b[0;32m--> 346\u001b[0m \u001b[39mself\u001b[39;49m\u001b[39m.\u001b[39;49m_parse()\n",
      "File \u001b[0;32m/usr/lib/python3.9/urllib/request.py:375\u001b[0m, in \u001b[0;36mRequest._parse\u001b[0;34m(self)\u001b[0m\n\u001b[1;32m    373\u001b[0m \u001b[39mself\u001b[39m\u001b[39m.\u001b[39mtype, rest \u001b[39m=\u001b[39m _splittype(\u001b[39mself\u001b[39m\u001b[39m.\u001b[39m_full_url)\n\u001b[1;32m    374\u001b[0m \u001b[39mif\u001b[39;00m \u001b[39mself\u001b[39m\u001b[39m.\u001b[39mtype \u001b[39mis\u001b[39;00m \u001b[39mNone\u001b[39;00m:\n\u001b[0;32m--> 375\u001b[0m     \u001b[39mraise\u001b[39;00m \u001b[39mValueError\u001b[39;00m(\u001b[39m\"\u001b[39m\u001b[39munknown url type: \u001b[39m\u001b[39m%r\u001b[39;00m\u001b[39m\"\u001b[39m \u001b[39m%\u001b[39m \u001b[39mself\u001b[39m\u001b[39m.\u001b[39mfull_url)\n\u001b[1;32m    376\u001b[0m \u001b[39mself\u001b[39m\u001b[39m.\u001b[39mhost, \u001b[39mself\u001b[39m\u001b[39m.\u001b[39mselector \u001b[39m=\u001b[39m _splithost(rest)\n\u001b[1;32m    377\u001b[0m \u001b[39mif\u001b[39;00m \u001b[39mself\u001b[39m\u001b[39m.\u001b[39mhost:\n",
      "\u001b[0;31mValueError\u001b[0m: unknown url type: 'None'"
     ]
    }
   ],
   "source": [
    "ref_model_path = 'HLCA_reference_model'\n",
    "query_data = sca.models.SCANVI.prepare_query_anndata(\n",
    "    adata = query_data_full,\n",
    "    reference_model = ref_model_path,\n",
    "    inplace=False)"
   ]
  },
  {
   "cell_type": "code",
   "execution_count": null,
   "metadata": {},
   "outputs": [],
   "source": [
    "query_data.obs['scanvi_label'] = 'unlabeled'"
   ]
  },
  {
   "attachments": {},
   "cell_type": "markdown",
   "metadata": {},
   "source": [
    "## Perform surgery"
   ]
  },
  {
   "cell_type": "code",
   "execution_count": null,
   "metadata": {},
   "outputs": [],
   "source": [
    "batch_key = 'dataset'\n",
    "query_batch = ['test_dataset_delorey_regev']"
   ]
  },
  {
   "cell_type": "code",
   "execution_count": null,
   "metadata": {},
   "outputs": [],
   "source": [
    "surgery_epochs = 1\n",
    "early_stopping_kwargs_surgery = {\n",
    "    \"early_stopping_metric\": \"elbo\",\n",
    "    \"save_best_state_metric\": \"elbo\",\n",
    "    \"on\": \"full_dataset\",\n",
    "    \"patience\": 10,\n",
    "    \"threshold\": 0.001,\n",
    "    \"reduce_lr_on_plateau\": True,\n",
    "    \"lr_patience\": 8,\n",
    "    \"lr_factor\": 0.1,\n",
    "}"
   ]
  },
  {
   "attachments": {},
   "cell_type": "markdown",
   "metadata": {},
   "source": [
    "Surgery"
   ]
  },
  {
   "cell_type": "code",
   "execution_count": null,
   "metadata": {},
   "outputs": [],
   "source": [
    "os"
   ]
  },
  {
   "cell_type": "code",
   "execution_count": null,
   "metadata": {},
   "outputs": [],
   "source": [
    "surgery_model = sca.models.SCANVI.load_query_data(\n",
    "        query_data,\n",
    "        ref_model_path,\n",
    "        freeze_dropout = True,\n",
    "    )"
   ]
  },
  {
   "cell_type": "code",
   "execution_count": null,
   "metadata": {},
   "outputs": [],
   "source": [
    "surgery_model._unlabeled_indices = np.arange(query_data.n_obs)\n",
    "surgery_model._labeled_indices = []"
   ]
  },
  {
   "cell_type": "code",
   "execution_count": null,
   "metadata": {},
   "outputs": [],
   "source": [
    "#TODO: Check args\n",
    "surgery_model.train(\n",
    "    n_epochs_semisupervised=surgery_epochs,\n",
    "    train_base_model=False,\n",
    "    semisupervised_trainer_kwargs=dict(\n",
    "        metrics_to_monitor=[\"accuracy\", \"elbo\"], \n",
    "        weight_decay=0,\n",
    "        early_stopping_kwargs=early_stopping_kwargs_surgery\n",
    "    ),\n",
    "    frequency=1\n",
    ")"
   ]
  },
  {
   "cell_type": "code",
   "execution_count": null,
   "metadata": {},
   "outputs": [],
   "source": [
    "surgery_path = 'surgery_model'\n",
    "surgery_model.save(surgery_path, overwrite=True)"
   ]
  },
  {
   "attachments": {},
   "cell_type": "markdown",
   "metadata": {},
   "source": [
    "### Get latent representation"
   ]
  },
  {
   "cell_type": "code",
   "execution_count": null,
   "metadata": {},
   "outputs": [],
   "source": [
    "query_data_latent = sc.AnnData(surgery_model.get_latent_representation(query_data))\n",
    "query_data_latent.obs = query_data.obs.loc[query_data.obs.index,:]"
   ]
  },
  {
   "attachments": {},
   "cell_type": "markdown",
   "metadata": {},
   "source": [
    "# Combine embeddings"
   ]
  },
  {
   "cell_type": "code",
   "execution_count": null,
   "metadata": {},
   "outputs": [],
   "source": [
    "query_data_latent.obs['ref_or_query'] = \"query\"\n",
    "reference_embedding.obs['ref_or_query'] = \"ref\""
   ]
  },
  {
   "cell_type": "code",
   "execution_count": null,
   "metadata": {},
   "outputs": [],
   "source": [
    "combined_emb = reference_embedding.concatenate(query_data_latent, index_unique=None)"
   ]
  },
  {
   "attachments": {},
   "cell_type": "markdown",
   "metadata": {},
   "source": [
    "# UMAP"
   ]
  },
  {
   "cell_type": "code",
   "execution_count": null,
   "metadata": {},
   "outputs": [],
   "source": [
    "sc.pp.neighbors(combined_emb, n_neighbors=30)\n",
    "sc.tl.umap(combined_emb)\n",
    "sc.pl.umap(combined_emb, color=\"ref_or_query\")"
   ]
  },
  {
   "attachments": {},
   "cell_type": "markdown",
   "metadata": {},
   "source": [
    "Saving combined embeddings (optional)"
   ]
  },
  {
   "cell_type": "code",
   "execution_count": null,
   "metadata": {},
   "outputs": [],
   "source": [
    "combined_emb.write_h5ad('../data/combined_embedding.h5ad')"
   ]
  },
  {
   "attachments": {},
   "cell_type": "markdown",
   "metadata": {},
   "source": [
    "# Label transfer"
   ]
  },
  {
   "cell_type": "code",
   "execution_count": null,
   "metadata": {},
   "outputs": [],
   "source": [
    "url = 'https://github.com/LungCellAtlas/mapping_data_to_the_HLCA/blob/main/supporting_files/HLCA_celltypes_ordered.csv'\n",
    "output_celltypes = '../data/HLCA_celltypes_ordered.csv'\n",
    "gdown.download(url, output, quiet=False)\n"
   ]
  },
  {
   "cell_type": "code",
   "execution_count": null,
   "metadata": {},
   "outputs": [],
   "source": [
    "url = 'https://github.com/LungCellAtlas/mapping_data_to_the_HLCA/blob/main/supporting_files/HLCA_scarches_gene_order.csv'\n",
    "output_gene_order = '../data/HLCA_scarches_gene_order.csv'\n",
    "gdown.download(url, output, quiet=False)"
   ]
  },
  {
   "cell_type": "code",
   "execution_count": null,
   "metadata": {},
   "outputs": [],
   "source": [
    "cts_ordered = pd.read_csv(output_celltypes,index_col=0)    "
   ]
  },
  {
   "cell_type": "code",
   "execution_count": null,
   "metadata": {},
   "outputs": [],
   "source": [
    "knn_transformer = sca.utils.knn.weighted_knn_transfer(\n",
    "    train_adata=reference_embedding,\n",
    "    train_adata_emb=\"X\",\n",
    "    n_neighbors=50,\n",
    ")"
   ]
  },
  {
   "cell_type": "code",
   "execution_count": null,
   "metadata": {},
   "outputs": [],
   "source": [
    "labels, uncert = sca.utils.knn.weighted_knn_transfer(\n",
    "    query_adata=query_data_latent,\n",
    "    query_adata_emb=\"X\", # location of our joint embedding\n",
    "    label_keys=\"Level\",\n",
    "    knn_model=knn_transformer,\n",
    "    ref_adata_obs = reference_embedding.obs.join(cts_ordered, on='ann_finest_level')\n",
    "    )"
   ]
  },
  {
   "cell_type": "code",
   "execution_count": null,
   "metadata": {},
   "outputs": [],
   "source": [
    "uncertainty_threshold = 0.2"
   ]
  },
  {
   "cell_type": "code",
   "execution_count": null,
   "metadata": {},
   "outputs": [],
   "source": [
    "labels.rename(columns={f\"Level_{lev}\":f\"Level_{lev}_transfered_label_unfiltered\" for lev in range(1,6)},inplace=True)\n",
    "uncert.rename(columns={f\"Level_{lev}\":f\"Level_{lev}_transfer_uncert\" for lev in range(1,6)},inplace=True)"
   ]
  },
  {
   "cell_type": "code",
   "execution_count": null,
   "metadata": {},
   "outputs": [],
   "source": [
    "combined_emb.obs = combined_emb.obs.join(labels)\n",
    "combined_emb.obs = combined_emb.obs.join(uncert)"
   ]
  },
  {
   "cell_type": "code",
   "execution_count": null,
   "metadata": {},
   "outputs": [],
   "source": [
    "# convert to arrays instead of categoricals, and set \"nan\" to NaN \n",
    "for col in combined_emb.obs.columns:\n",
    "    if col.endswith(\"_transfer_uncert\"):\n",
    "        combined_emb.obs[col] = list(np.array(combined_emb.obs[col]))\n",
    "    elif col.endswith(\"_transfered_label_unfiltered\"):\n",
    "        filtered_colname = col.replace(\"_unfiltered\",\"\")\n",
    "        matching_uncert_col = col.replace(\"transfered_label_unfiltered\",\"transfer_uncert\")\n",
    "        \n",
    "        # also create a filtered version, setting cells with too high \n",
    "        # uncertainty levels to \"Unknown\"\n",
    "        combined_emb.obs[filtered_colname] = combined_emb.obs[col]\n",
    "        combined_emb.obs[filtered_colname].loc[combined_emb.obs[matching_uncert_col]>uncertainty_threshold] = \"Unknown\"\n",
    "        # convert to categorical:\n",
    "        combined_emb.obs[col] = pd.Categorical(combined_emb.obs[col])\n",
    "        combined_emb.obs[filtered_colname] = pd.Categorical(combined_emb.obs[filtered_colname])\n",
    "        # then replace \"nan\" with NaN (that makes colors better in umap)\n",
    "        combined_emb.obs[col].replace(\"nan\",np.nan,inplace=True)\n",
    "        combined_emb.obs[filtered_colname].replace(\"nan\",np.nan,inplace=True)"
   ]
  },
  {
   "cell_type": "code",
   "execution_count": null,
   "metadata": {},
   "outputs": [],
   "source": [
    "print(f\"Percentage of unknown per level, with uncertainty_threshold={uncertainty_threshold}:\")\n",
    "for level in range(1,6):\n",
    "    print(f\"Level {level}: {np.round(sum(combined_emb.obs[f'Level_{level}_transfered_label'] =='Unknown')/query_data.n_obs*100,2)}%\")"
   ]
  },
  {
   "attachments": {},
   "cell_type": "markdown",
   "metadata": {},
   "source": [
    "### UMAP Uncertainties "
   ]
  },
  {
   "cell_type": "code",
   "execution_count": null,
   "metadata": {},
   "outputs": [],
   "source": [
    "sc.pl.umap(\n",
    "    combined_emb,\n",
    "    color=[f\"Level_{lev}_transfer_uncert\" for lev in range(1,6)],\n",
    "    ncols=5)"
   ]
  },
  {
   "cell_type": "code",
   "execution_count": null,
   "metadata": {},
   "outputs": [],
   "source": [
    "sc.pl.umap(\n",
    "    combined_emb,\n",
    "    color=[f\"Level_{lev}_transfer_uncert\" for lev in range(1,6)],\n",
    "    ncols=5)"
   ]
  }
 ],
 "metadata": {
  "kernelspec": {
   "display_name": "Python 3",
   "language": "python",
   "name": "python3"
  },
  "language_info": {
   "codemirror_mode": {
    "name": "ipython",
    "version": 3
   },
   "file_extension": ".py",
   "mimetype": "text/x-python",
   "name": "python",
   "nbconvert_exporter": "python",
   "pygments_lexer": "ipython3",
   "version": "3.9.5"
  },
  "orig_nbformat": 4,
  "vscode": {
   "interpreter": {
    "hash": "f9f85f796d01129d0dd105a088854619f454435301f6ffec2fea96ecbd9be4ac"
   }
  }
 },
 "nbformat": 4,
 "nbformat_minor": 2
}
