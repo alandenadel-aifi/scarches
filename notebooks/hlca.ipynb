{
 "cells": [
  {
   "cell_type": "markdown",
   "metadata": {},
   "source": [
    "# Mapping and classifying cells using Human Lung Cell Atlas"
   ]
  },
  {
   "cell_type": "markdown",
   "metadata": {},
   "source": [
    "## Environment Setup"
   ]
  },
  {
   "cell_type": "code",
   "execution_count": 1,
   "metadata": {},
   "outputs": [],
   "source": [
    "import os\n",
    "\n",
    "import warnings\n",
    "warnings.simplefilter(action=\"ignore\", category=FutureWarning)\n",
    "warnings.simplefilter(action=\"ignore\", category=UserWarning)"
   ]
  },
  {
   "cell_type": "code",
   "execution_count": 2,
   "metadata": {},
   "outputs": [
    {
     "name": "stderr",
     "output_type": "stream",
     "text": [
      "WARNING:root:In order to use the mouse gastrulation seqFISH datsets, please install squidpy (see https://github.com/scverse/squidpy).\n",
      "WARNING:root:In order to use sagenet models, please install pytorch geometric (see https://pytorch-geometric.readthedocs.io) and \n",
      " captum (see https://github.com/pytorch/captum).\n",
      "INFO:pytorch_lightning.utilities.seed:Global seed set to 0\n",
      "/home/icb/aleksandra.topalova/miniconda3/lib/python3.9/site-packages/pytorch_lightning/utilities/warnings.py:53: LightningDeprecationWarning: pytorch_lightning.utilities.warnings.rank_zero_deprecation has been deprecated in v1.6 and will be removed in v1.8. Use the equivalent function from the pytorch_lightning.utilities.rank_zero module instead.\n",
      "  new_rank_zero_deprecation(\n",
      "/home/icb/aleksandra.topalova/miniconda3/lib/python3.9/site-packages/pytorch_lightning/utilities/warnings.py:58: LightningDeprecationWarning: The `pytorch_lightning.loggers.base.rank_zero_experiment` is deprecated in v1.7 and will be removed in v1.9. Please use `pytorch_lightning.loggers.logger.rank_zero_experiment` instead.\n",
      "  return new_rank_zero_deprecation(*args, **kwargs)\n",
      "WARNING:root:mvTCR is not installed. To use mvTCR models, please install it first using \"pip install mvtcr\"\n",
      "WARNING:root:multigrate is not installed. To use multigrate models, please install it first using \"pip install multigrate\".\n"
     ]
    }
   ],
   "source": [
    "import scanpy as sc\n",
    "import numpy as np\n",
    "import pandas as pd\n",
    "import scarches as sca\n",
    "import gdown\n",
    "import gzip\n",
    "import shutil"
   ]
  },
  {
   "cell_type": "code",
   "execution_count": 3,
   "metadata": {},
   "outputs": [
    {
     "name": "stdout",
     "output_type": "stream",
     "text": [
      "-----\n",
      "anndata     0.8.0\n",
      "scanpy      1.9.1\n",
      "-----\n",
      "PIL                         9.3.0\n",
      "absl                        NA\n",
      "asttokens                   NA\n",
      "attr                        22.1.0\n",
      "backcall                    0.2.0\n",
      "brotli                      NA\n",
      "bs4                         4.11.1\n",
      "certifi                     2022.12.07\n",
      "cffi                        1.15.1\n",
      "charset_normalizer          2.0.4\n",
      "chex                        0.1.5\n",
      "contextlib2                 NA\n",
      "cycler                      0.10.0\n",
      "cython_runtime              NA\n",
      "dateutil                    2.8.2\n",
      "debugpy                     1.5.1\n",
      "decorator                   5.1.1\n",
      "defusedxml                  0.7.1\n",
      "deprecate                   0.3.2\n",
      "docrep                      0.3.2\n",
      "entrypoints                 0.4\n",
      "executing                   0.8.3\n",
      "filelock                    3.8.0\n",
      "flax                        0.6.1\n",
      "fsspec                      2022.11.0\n",
      "gdown                       4.5.3\n",
      "google                      NA\n",
      "h5py                        3.7.0\n",
      "idna                        3.4\n",
      "igraph                      0.10.2\n",
      "ipykernel                   6.15.2\n",
      "ipython_genutils            0.2.0\n",
      "ipywidgets                  8.0.2\n",
      "jax                         0.4.1\n",
      "jaxlib                      0.4.1\n",
      "jedi                        0.18.1\n",
      "joblib                      1.2.0\n",
      "jupyter_server              1.23.4\n",
      "kiwisolver                  1.4.4\n",
      "leidenalg                   0.9.0\n",
      "llvmlite                    0.39.1\n",
      "louvain                     0.8.0\n",
      "lxml                        4.9.1\n",
      "matplotlib                  3.6.2\n",
      "matplotlib_inline           0.1.6\n",
      "ml_collections              NA\n",
      "mpl_toolkits                NA\n",
      "msgpack                     1.0.4\n",
      "mudata                      0.2.1\n",
      "multipledispatch            0.6.0\n",
      "natsort                     8.2.0\n",
      "newick                      1.0.0\n",
      "numba                       0.56.4\n",
      "numpy                       1.23.4\n",
      "numpyro                     0.10.1\n",
      "nvidia                      NA\n",
      "opt_einsum                  v3.3.0\n",
      "optax                       0.1.3\n",
      "packaging                   22.0\n",
      "pandas                      1.5.1\n",
      "parso                       0.8.3\n",
      "pexpect                     4.8.0\n",
      "pickleshare                 0.7.5\n",
      "pkg_resources               NA\n",
      "platformdirs                2.5.2\n",
      "prompt_toolkit              3.0.36\n",
      "psutil                      5.9.0\n",
      "ptyprocess                  0.7.0\n",
      "pure_eval                   0.2.2\n",
      "pydev_ipython               NA\n",
      "pydevconsole                NA\n",
      "pydevd                      2.6.0\n",
      "pydevd_concurrency_analyser NA\n",
      "pydevd_file_utils           NA\n",
      "pydevd_plugins              NA\n",
      "pydevd_tracing              NA\n",
      "pygments                    2.11.2\n",
      "pyparsing                   3.0.9\n",
      "pyro                        1.8.2\n",
      "pytorch_lightning           1.7.7\n",
      "pytz                        2022.7\n",
      "requests                    2.28.1\n",
      "rich                        NA\n",
      "ruamel                      NA\n",
      "scHPL                       NA\n",
      "scarches                    0.5.5\n",
      "scipy                       1.9.3\n",
      "scvi                        0.19.0\n",
      "seaborn                     0.12.1\n",
      "session_info                1.0.0\n",
      "setuptools                  65.5.0\n",
      "six                         1.16.0\n",
      "sklearn                     1.1.3\n",
      "socks                       1.7.1\n",
      "soupsieve                   2.3.2.post1\n",
      "stack_data                  0.2.0\n",
      "statsmodels                 0.13.5\n",
      "tensorboard                 2.11.0\n",
      "texttable                   1.6.4\n",
      "threadpoolctl               3.1.0\n",
      "toolz                       0.12.0\n",
      "torch                       1.13.0+cu117\n",
      "torchmetrics                0.10.2\n",
      "tornado                     6.2\n",
      "tqdm                        4.64.1\n",
      "traitlets                   5.7.1\n",
      "tree                        0.1.7\n",
      "typing_extensions           NA\n",
      "urllib3                     1.26.13\n",
      "wcwidth                     0.2.5\n",
      "wrapt                       1.14.1\n",
      "yaml                        6.0\n",
      "zipp                        NA\n",
      "zmq                         23.2.0\n",
      "zoneinfo                    NA\n",
      "-----\n",
      "IPython             8.7.0\n",
      "jupyter_client      7.4.8\n",
      "jupyter_core        5.1.1\n",
      "jupyterlab          3.5.2\n",
      "notebook            6.5.2\n",
      "-----\n",
      "Python 3.9.15 (main, Nov 24 2022, 14:31:59) [GCC 11.2.0]\n",
      "Linux-3.10.0-1160.71.1.el7.x86_64-x86_64-with-glibc2.17\n",
      "-----\n",
      "Session information updated at 2023-01-09 14:47\n"
     ]
    }
   ],
   "source": [
    "sc.logging.print_versions()"
   ]
  },
  {
   "cell_type": "markdown",
   "metadata": {},
   "source": [
    "## Download Files - Reference model, Embeddings etc."
   ]
  },
  {
   "cell_type": "code",
   "execution_count": 4,
   "metadata": {},
   "outputs": [],
   "source": [
    "# if not os.path.isdir(\"../data\"):\n",
    "#     os.mkdir(\"../data\")    "
   ]
  },
  {
   "cell_type": "code",
   "execution_count": 5,
   "metadata": {},
   "outputs": [],
   "source": [
    "# os.chdir('../data')"
   ]
  },
  {
   "cell_type": "code",
   "execution_count": 6,
   "metadata": {},
   "outputs": [
    {
     "name": "stderr",
     "output_type": "stream",
     "text": [
      "Downloading...\n",
      "From: https://zenodo.org/record/6337966/files/HLCA_emb_and_metadata.h5ad\n",
      "To: /home/icb/aleksandra.topalova/scarches/notebooks/HLCA_emb_and_metadata.h5ad\n",
      "100%|██████████| 218M/218M [00:40<00:00, 5.32MB/s] \n"
     ]
    },
    {
     "data": {
      "text/plain": [
       "'HLCA_emb_and_metadata.h5ad'"
      ]
     },
     "execution_count": 6,
     "metadata": {},
     "output_type": "execute_result"
    }
   ],
   "source": [
    "url = 'https://zenodo.org/record/6337966/files/HLCA_emb_and_metadata.h5ad'\n",
    "output = 'HLCA_emb_and_metadata.h5ad'\n",
    "gdown.download(url, output, quiet=False)"
   ]
  },
  {
   "cell_type": "code",
   "execution_count": 7,
   "metadata": {},
   "outputs": [
    {
     "name": "stderr",
     "output_type": "stream",
     "text": [
      "Downloading...\n",
      "From: https://zenodo.org/record/6337966/files/HLCA_reference_model.zip\n",
      "To: /home/icb/aleksandra.topalova/scarches/notebooks/HLCA_reference_model.zip\n",
      "100%|██████████| 5.32M/5.32M [00:00<00:00, 5.36MB/s]\n"
     ]
    }
   ],
   "source": [
    "url = 'https://zenodo.org/record/6337966/files/HLCA_reference_model.zip'\n",
    "output = 'HLCA_reference_model.zip'\n",
    "gdown.download(url, output, quiet=False)\n",
    "shutil.unpack_archive('HLCA_reference_model.zip')\n",
    "os.remove(output)"
   ]
  },
  {
   "cell_type": "markdown",
   "metadata": {},
   "source": [
    "## Download query data"
   ]
  },
  {
   "cell_type": "code",
   "execution_count": 8,
   "metadata": {},
   "outputs": [],
   "source": [
    "query_data_url = \"https://www.ncbi.nlm.nih.gov/geo/download/?acc=GSM5230027&format=file&file=GSM5230027%5F04%2DP103142%2DS149%2DR01%5Fraw%5Ffeature%5Fbc%5Fmatrix%2Eh5%2Egz\"\n",
    "query_metadata_url = \"https://www.ncbi.nlm.nih.gov/geo/download/?acc=GSE171668&format=file&file=GSE171668%5Flung%5Fmetadata%2Ecsv%2Egz\""
   ]
  },
  {
   "cell_type": "code",
   "execution_count": 9,
   "metadata": {},
   "outputs": [
    {
     "name": "stderr",
     "output_type": "stream",
     "text": [
      "Downloading...\n",
      "From: https://www.ncbi.nlm.nih.gov/geo/download/?acc=GSM5230027&format=file&file=GSM5230027%5F04%2DP103142%2DS149%2DR01%5Fraw%5Ffeature%5Fbc%5Fmatrix%2Eh5%2Egz\n",
      "To: /home/icb/aleksandra.topalova/scarches/notebooks/query.h5.gz\n",
      "100%|██████████| 27.4M/27.4M [00:06<00:00, 4.20MB/s]\n"
     ]
    }
   ],
   "source": [
    "output = 'query.h5.gz'\n",
    "gdown.download(query_data_url, output, quiet=False)\n",
    "with gzip.open('query.h5.gz', 'rb') as f_in:\n",
    "    with open('query.h5', 'wb') as f_out:\n",
    "        shutil.copyfileobj(f_in, f_out)\n",
    "os.remove(\"query.h5.gz\")"
   ]
  },
  {
   "cell_type": "code",
   "execution_count": 10,
   "metadata": {},
   "outputs": [
    {
     "name": "stderr",
     "output_type": "stream",
     "text": [
      "Downloading...\n",
      "From: https://www.ncbi.nlm.nih.gov/geo/download/?acc=GSE171668&format=file&file=GSE171668%5Flung%5Fmetadata%2Ecsv%2Egz\n",
      "To: /home/icb/aleksandra.topalova/scarches/notebooks/query_obs.csv.gz\n",
      "100%|██████████| 1.95M/1.95M [00:00<00:00, 2.35MB/s]\n"
     ]
    },
    {
     "data": {
      "text/plain": [
       "'query_obs.csv.gz'"
      ]
     },
     "execution_count": 10,
     "metadata": {},
     "output_type": "execute_result"
    }
   ],
   "source": [
    "output = 'query_obs.csv.gz'\n",
    "gdown.download(query_metadata_url, output, quiet=False)"
   ]
  },
  {
   "cell_type": "markdown",
   "metadata": {},
   "source": [
    "## Preprocessing"
   ]
  },
  {
   "cell_type": "code",
   "execution_count": 11,
   "metadata": {},
   "outputs": [],
   "source": [
    "query_data_full = sc.read_10x_h5(\"query.h5\")\n",
    "    # clean up .var.index (gene names)\n",
    "query_data_full.var['gene_names'] = query_data_full.var.index\n",
    "query_data_full.var.index = [idx.split(\"___\")[-1] for idx in query_data_full.var.gene_ids]\n",
    "    # clean up cell barcodes:\n",
    "query_data_full.obs.index = query_data_full.obs.index.str.rstrip(\"-1\")\n",
    "    # read in metadata (to select only cells of interest and remove empty drops)\n",
    "query_data_meta = pd.read_csv(\"query_obs.csv.gz\",index_col=0)\n",
    "    # subset to cells from our sample\n",
    "query_data_meta = query_data_meta.loc[query_data_meta.donor == \"D12_4\",:].copy()\n",
    "    # clean up barcodes:\n",
    "query_data_meta.index = [idx.split(\"-\")[-1] for idx in query_data_meta.index]\n",
    "    # subset adata to cells in metadata:\n",
    "query_data_full = query_data_full[query_data_meta.index,:].copy()\n",
    "    # add dataset information:\n",
    "query_data_full.obs['dataset'] = 'test_dataset_delorey_regev'"
   ]
  },
  {
   "cell_type": "code",
   "execution_count": 12,
   "metadata": {},
   "outputs": [],
   "source": [
    "# gene order for scArches model\n",
    "reference_gene_order = pd.read_csv('HLCA_reference_model/var_names.csv')\n",
    "# reference embedding, including cell/sample/subject metadata:\n",
    "reference_embedding = sc.read_h5ad('HLCA_emb_and_metadata.h5ad')"
   ]
  },
  {
   "cell_type": "code",
   "execution_count": 13,
   "metadata": {},
   "outputs": [],
   "source": [
    "sca.models.SCANVI.convert_legacy_save(\"HLCA_reference_model\", \"HLCA_reference_model\", overwrite=True)"
   ]
  },
  {
   "cell_type": "code",
   "execution_count": 14,
   "metadata": {},
   "outputs": [
    {
     "name": "stdout",
     "output_type": "stream",
     "text": [
      "\u001b[34mINFO    \u001b[0m File HLCA_reference_model/model.pt already downloaded                                                     \n",
      "\u001b[34mINFO    \u001b[0m Found \u001b[1;36m99.65\u001b[0m% reference vars in query data.                                                                \n"
     ]
    }
   ],
   "source": [
    "ref_model_path = 'HLCA_reference_model'\n",
    "query_data = sca.models.SCANVI.prepare_query_anndata(\n",
    "    adata = query_data_full,\n",
    "    reference_model = ref_model_path,\n",
    "    inplace=False)"
   ]
  },
  {
   "cell_type": "code",
   "execution_count": 15,
   "metadata": {},
   "outputs": [],
   "source": [
    "query_data.obs['scanvi_label'] = 'unlabeled'"
   ]
  },
  {
   "cell_type": "markdown",
   "metadata": {},
   "source": [
    "## Perform surgery"
   ]
  },
  {
   "cell_type": "code",
   "execution_count": 16,
   "metadata": {},
   "outputs": [],
   "source": [
    "batch_key = 'dataset'\n",
    "query_batch = ['test_dataset_delorey_regev']"
   ]
  },
  {
   "cell_type": "code",
   "execution_count": 17,
   "metadata": {},
   "outputs": [],
   "source": [
    "surgery_epochs = 500\n",
    "early_stopping_kwargs_surgery = {\n",
    "    \"early_stopping_metric\": \"elbo\",\n",
    "    \"patience\": 10,\n",
    "    \"threshold\": 0.001,\n",
    "    \"reduce_lr_on_plateau\": True,\n",
    "    \"lr_patience\": 8,\n",
    "    \"lr_factor\": 0.1,\n",
    "}"
   ]
  },
  {
   "cell_type": "markdown",
   "metadata": {},
   "source": [
    "Surgery"
   ]
  },
  {
   "cell_type": "code",
   "execution_count": 18,
   "metadata": {},
   "outputs": [
    {
     "name": "stdout",
     "output_type": "stream",
     "text": [
      "\u001b[34mINFO    \u001b[0m File HLCA_reference_model/model.pt already downloaded                                                     \n"
     ]
    }
   ],
   "source": [
    "surgery_model = sca.models.SCANVI.load_query_data(\n",
    "        query_data,\n",
    "        ref_model_path,\n",
    "        freeze_dropout = True,\n",
    "    )"
   ]
  },
  {
   "cell_type": "code",
   "execution_count": null,
   "metadata": {},
   "outputs": [],
   "source": [
    "surgery_model._unlabeled_indices = np.arange(query_data.n_obs)\n",
    "surgery_model._labeled_indices = []"
   ]
  },
  {
   "cell_type": "code",
   "execution_count": 33,
   "metadata": {},
   "outputs": [
    {
     "ename": "NameError",
     "evalue": "name 'early_stopping_kwargs' is not defined",
     "output_type": "error",
     "traceback": [
      "\u001b[0;31m---------------------------------------------------------------------------\u001b[0m",
      "\u001b[0;31mNameError\u001b[0m                                 Traceback (most recent call last)",
      "Cell \u001b[0;32mIn[33], line 3\u001b[0m\n\u001b[1;32m      1\u001b[0m \u001b[38;5;66;03m#TODO: Check args\u001b[39;00m\n\u001b[1;32m      2\u001b[0m surgery_model\u001b[38;5;241m.\u001b[39mtrain(\n\u001b[0;32m----> 3\u001b[0m    n_epochs\u001b[38;5;241m=\u001b[39msurgery_epochs, frequency\u001b[38;5;241m=\u001b[39m\u001b[38;5;241m1\u001b[39m, early_stopping_kwargs\u001b[38;5;241m=\u001b[39m\u001b[43mearly_stopping_kwargs\u001b[49m, weight_decay\u001b[38;5;241m=\u001b[39m\u001b[38;5;241m0\u001b[39m\n\u001b[1;32m      4\u001b[0m )\n",
      "\u001b[0;31mNameError\u001b[0m: name 'early_stopping_kwargs' is not defined"
     ]
    }
   ],
   "source": [
    "#TODO: Check args\n",
    "surgery_model.train(\n",
    "   n_epochs=surgery_epochs,\n",
    "    frequency=1,\n",
    "    early_stopping_kwargs=early_stopping_kwargs,\n",
    "    weight_decay=0\n",
    ")"
   ]
  },
  {
   "cell_type": "code",
   "execution_count": 21,
   "metadata": {},
   "outputs": [],
   "source": [
    "surgery_path = 'surgery_model'\n",
    "surgery_model.save(surgery_path, overwrite=True)"
   ]
  },
  {
   "cell_type": "markdown",
   "metadata": {},
   "source": [
    "### Get latent representation"
   ]
  },
  {
   "cell_type": "code",
   "execution_count": 22,
   "metadata": {},
   "outputs": [],
   "source": [
    "query_data_latent = sc.AnnData(surgery_model.get_latent_representation(query_data))\n",
    "query_data_latent.obs = query_data.obs.loc[query_data.obs.index,:]"
   ]
  },
  {
   "cell_type": "markdown",
   "metadata": {},
   "source": [
    "# Combine embeddings"
   ]
  },
  {
   "cell_type": "code",
   "execution_count": 23,
   "metadata": {},
   "outputs": [],
   "source": [
    "query_data_latent.obs['ref_or_query'] = \"query\"\n",
    "reference_embedding.obs['ref_or_query'] = \"ref\""
   ]
  },
  {
   "cell_type": "code",
   "execution_count": 24,
   "metadata": {},
   "outputs": [],
   "source": [
    "combined_emb = reference_embedding.concatenate(query_data_latent, index_unique=None)"
   ]
  },
  {
   "cell_type": "markdown",
   "metadata": {},
   "source": [
    "# UMAP"
   ]
  },
  {
   "cell_type": "code",
   "execution_count": 25,
   "metadata": {},
   "outputs": [
    {
     "ename": "KeyboardInterrupt",
     "evalue": "",
     "output_type": "error",
     "traceback": [
      "\u001b[0;31m---------------------------------------------------------------------------\u001b[0m",
      "\u001b[0;31mKeyboardInterrupt\u001b[0m                         Traceback (most recent call last)",
      "Cell \u001b[0;32mIn[25], line 1\u001b[0m\n\u001b[0;32m----> 1\u001b[0m \u001b[43msc\u001b[49m\u001b[38;5;241;43m.\u001b[39;49m\u001b[43mpp\u001b[49m\u001b[38;5;241;43m.\u001b[39;49m\u001b[43mneighbors\u001b[49m\u001b[43m(\u001b[49m\u001b[43mcombined_emb\u001b[49m\u001b[43m,\u001b[49m\u001b[43m \u001b[49m\u001b[43mn_neighbors\u001b[49m\u001b[38;5;241;43m=\u001b[39;49m\u001b[38;5;241;43m30\u001b[39;49m\u001b[43m)\u001b[49m\n\u001b[1;32m      2\u001b[0m sc\u001b[38;5;241m.\u001b[39mtl\u001b[38;5;241m.\u001b[39mumap(combined_emb)\n\u001b[1;32m      3\u001b[0m sc\u001b[38;5;241m.\u001b[39mpl\u001b[38;5;241m.\u001b[39mumap(combined_emb, color\u001b[38;5;241m=\u001b[39m\u001b[38;5;124m\"\u001b[39m\u001b[38;5;124mref_or_query\u001b[39m\u001b[38;5;124m\"\u001b[39m)\n",
      "File \u001b[0;32m~/miniconda3/lib/python3.9/site-packages/scanpy/neighbors/__init__.py:139\u001b[0m, in \u001b[0;36mneighbors\u001b[0;34m(adata, n_neighbors, n_pcs, use_rep, knn, random_state, method, metric, metric_kwds, key_added, copy)\u001b[0m\n\u001b[1;32m    137\u001b[0m     adata\u001b[38;5;241m.\u001b[39m_init_as_actual(adata\u001b[38;5;241m.\u001b[39mcopy())\n\u001b[1;32m    138\u001b[0m neighbors \u001b[38;5;241m=\u001b[39m Neighbors(adata)\n\u001b[0;32m--> 139\u001b[0m \u001b[43mneighbors\u001b[49m\u001b[38;5;241;43m.\u001b[39;49m\u001b[43mcompute_neighbors\u001b[49m\u001b[43m(\u001b[49m\n\u001b[1;32m    140\u001b[0m \u001b[43m    \u001b[49m\u001b[43mn_neighbors\u001b[49m\u001b[38;5;241;43m=\u001b[39;49m\u001b[43mn_neighbors\u001b[49m\u001b[43m,\u001b[49m\n\u001b[1;32m    141\u001b[0m \u001b[43m    \u001b[49m\u001b[43mknn\u001b[49m\u001b[38;5;241;43m=\u001b[39;49m\u001b[43mknn\u001b[49m\u001b[43m,\u001b[49m\n\u001b[1;32m    142\u001b[0m \u001b[43m    \u001b[49m\u001b[43mn_pcs\u001b[49m\u001b[38;5;241;43m=\u001b[39;49m\u001b[43mn_pcs\u001b[49m\u001b[43m,\u001b[49m\n\u001b[1;32m    143\u001b[0m \u001b[43m    \u001b[49m\u001b[43muse_rep\u001b[49m\u001b[38;5;241;43m=\u001b[39;49m\u001b[43muse_rep\u001b[49m\u001b[43m,\u001b[49m\n\u001b[1;32m    144\u001b[0m \u001b[43m    \u001b[49m\u001b[43mmethod\u001b[49m\u001b[38;5;241;43m=\u001b[39;49m\u001b[43mmethod\u001b[49m\u001b[43m,\u001b[49m\n\u001b[1;32m    145\u001b[0m \u001b[43m    \u001b[49m\u001b[43mmetric\u001b[49m\u001b[38;5;241;43m=\u001b[39;49m\u001b[43mmetric\u001b[49m\u001b[43m,\u001b[49m\n\u001b[1;32m    146\u001b[0m \u001b[43m    \u001b[49m\u001b[43mmetric_kwds\u001b[49m\u001b[38;5;241;43m=\u001b[39;49m\u001b[43mmetric_kwds\u001b[49m\u001b[43m,\u001b[49m\n\u001b[1;32m    147\u001b[0m \u001b[43m    \u001b[49m\u001b[43mrandom_state\u001b[49m\u001b[38;5;241;43m=\u001b[39;49m\u001b[43mrandom_state\u001b[49m\u001b[43m,\u001b[49m\n\u001b[1;32m    148\u001b[0m \u001b[43m\u001b[49m\u001b[43m)\u001b[49m\n\u001b[1;32m    150\u001b[0m \u001b[38;5;28;01mif\u001b[39;00m key_added \u001b[38;5;129;01mis\u001b[39;00m \u001b[38;5;28;01mNone\u001b[39;00m:\n\u001b[1;32m    151\u001b[0m     key_added \u001b[38;5;241m=\u001b[39m \u001b[38;5;124m'\u001b[39m\u001b[38;5;124mneighbors\u001b[39m\u001b[38;5;124m'\u001b[39m\n",
      "File \u001b[0;32m~/miniconda3/lib/python3.9/site-packages/scanpy/neighbors/__init__.py:811\u001b[0m, in \u001b[0;36mNeighbors.compute_neighbors\u001b[0;34m(self, n_neighbors, knn, n_pcs, use_rep, method, random_state, write_knn_indices, metric, metric_kwds)\u001b[0m\n\u001b[1;32m    807\u001b[0m start_connect \u001b[38;5;241m=\u001b[39m logg\u001b[38;5;241m.\u001b[39mdebug(\u001b[38;5;124m'\u001b[39m\u001b[38;5;124mcomputed neighbors\u001b[39m\u001b[38;5;124m'\u001b[39m, time\u001b[38;5;241m=\u001b[39mstart_neighbors)\n\u001b[1;32m    808\u001b[0m \u001b[38;5;28;01mif\u001b[39;00m \u001b[38;5;129;01mnot\u001b[39;00m use_dense_distances \u001b[38;5;129;01mor\u001b[39;00m method \u001b[38;5;129;01min\u001b[39;00m {\u001b[38;5;124m'\u001b[39m\u001b[38;5;124mumap\u001b[39m\u001b[38;5;124m'\u001b[39m, \u001b[38;5;124m'\u001b[39m\u001b[38;5;124mrapids\u001b[39m\u001b[38;5;124m'\u001b[39m}:\n\u001b[1;32m    809\u001b[0m     \u001b[38;5;66;03m# we need self._distances also for method == 'gauss' if we didn't\u001b[39;00m\n\u001b[1;32m    810\u001b[0m     \u001b[38;5;66;03m# use dense distances\u001b[39;00m\n\u001b[0;32m--> 811\u001b[0m     \u001b[38;5;28mself\u001b[39m\u001b[38;5;241m.\u001b[39m_distances, \u001b[38;5;28mself\u001b[39m\u001b[38;5;241m.\u001b[39m_connectivities \u001b[38;5;241m=\u001b[39m \u001b[43m_compute_connectivities_umap\u001b[49m\u001b[43m(\u001b[49m\n\u001b[1;32m    812\u001b[0m \u001b[43m        \u001b[49m\u001b[43mknn_indices\u001b[49m\u001b[43m,\u001b[49m\n\u001b[1;32m    813\u001b[0m \u001b[43m        \u001b[49m\u001b[43mknn_distances\u001b[49m\u001b[43m,\u001b[49m\n\u001b[1;32m    814\u001b[0m \u001b[43m        \u001b[49m\u001b[38;5;28;43mself\u001b[39;49m\u001b[38;5;241;43m.\u001b[39;49m\u001b[43m_adata\u001b[49m\u001b[38;5;241;43m.\u001b[39;49m\u001b[43mshape\u001b[49m\u001b[43m[\u001b[49m\u001b[38;5;241;43m0\u001b[39;49m\u001b[43m]\u001b[49m\u001b[43m,\u001b[49m\n\u001b[1;32m    815\u001b[0m \u001b[43m        \u001b[49m\u001b[38;5;28;43mself\u001b[39;49m\u001b[38;5;241;43m.\u001b[39;49m\u001b[43mn_neighbors\u001b[49m\u001b[43m,\u001b[49m\n\u001b[1;32m    816\u001b[0m \u001b[43m    \u001b[49m\u001b[43m)\u001b[49m\n\u001b[1;32m    817\u001b[0m \u001b[38;5;66;03m# overwrite the umap connectivities if method is 'gauss'\u001b[39;00m\n\u001b[1;32m    818\u001b[0m \u001b[38;5;66;03m# self._distances is unaffected by this\u001b[39;00m\n\u001b[1;32m    819\u001b[0m \u001b[38;5;28;01mif\u001b[39;00m method \u001b[38;5;241m==\u001b[39m \u001b[38;5;124m'\u001b[39m\u001b[38;5;124mgauss\u001b[39m\u001b[38;5;124m'\u001b[39m:\n",
      "File \u001b[0;32m~/miniconda3/lib/python3.9/site-packages/scanpy/neighbors/__init__.py:410\u001b[0m, in \u001b[0;36m_compute_connectivities_umap\u001b[0;34m(knn_indices, knn_dists, n_obs, n_neighbors, set_op_mix_ratio, local_connectivity)\u001b[0m\n\u001b[1;32m    406\u001b[0m \u001b[38;5;28;01mif\u001b[39;00m \u001b[38;5;28misinstance\u001b[39m(connectivities, \u001b[38;5;28mtuple\u001b[39m):\n\u001b[1;32m    407\u001b[0m     \u001b[38;5;66;03m# In umap-learn 0.4, this returns (result, sigmas, rhos)\u001b[39;00m\n\u001b[1;32m    408\u001b[0m     connectivities \u001b[38;5;241m=\u001b[39m connectivities[\u001b[38;5;241m0\u001b[39m]\n\u001b[0;32m--> 410\u001b[0m distances \u001b[38;5;241m=\u001b[39m \u001b[43m_get_sparse_matrix_from_indices_distances_umap\u001b[49m\u001b[43m(\u001b[49m\n\u001b[1;32m    411\u001b[0m \u001b[43m    \u001b[49m\u001b[43mknn_indices\u001b[49m\u001b[43m,\u001b[49m\u001b[43m \u001b[49m\u001b[43mknn_dists\u001b[49m\u001b[43m,\u001b[49m\u001b[43m \u001b[49m\u001b[43mn_obs\u001b[49m\u001b[43m,\u001b[49m\u001b[43m \u001b[49m\u001b[43mn_neighbors\u001b[49m\n\u001b[1;32m    412\u001b[0m \u001b[43m\u001b[49m\u001b[43m)\u001b[49m\n\u001b[1;32m    414\u001b[0m \u001b[38;5;28;01mreturn\u001b[39;00m distances, connectivities\u001b[38;5;241m.\u001b[39mtocsr()\n",
      "File \u001b[0;32m~/miniconda3/lib/python3.9/site-packages/scanpy/neighbors/__init__.py:355\u001b[0m, in \u001b[0;36m_get_sparse_matrix_from_indices_distances_umap\u001b[0;34m(knn_indices, knn_dists, n_obs, n_neighbors)\u001b[0m\n\u001b[1;32m    353\u001b[0m \u001b[38;5;28;01mfor\u001b[39;00m i \u001b[38;5;129;01min\u001b[39;00m \u001b[38;5;28mrange\u001b[39m(knn_indices\u001b[38;5;241m.\u001b[39mshape[\u001b[38;5;241m0\u001b[39m]):\n\u001b[1;32m    354\u001b[0m     \u001b[38;5;28;01mfor\u001b[39;00m j \u001b[38;5;129;01min\u001b[39;00m \u001b[38;5;28mrange\u001b[39m(n_neighbors):\n\u001b[0;32m--> 355\u001b[0m         \u001b[38;5;28;01mif\u001b[39;00m \u001b[43mknn_indices\u001b[49m\u001b[43m[\u001b[49m\u001b[43mi\u001b[49m\u001b[43m,\u001b[49m\u001b[43m \u001b[49m\u001b[43mj\u001b[49m\u001b[43m]\u001b[49m\u001b[43m \u001b[49m\u001b[38;5;241;43m==\u001b[39;49m\u001b[43m \u001b[49m\u001b[38;5;241;43m-\u001b[39;49m\u001b[38;5;241;43m1\u001b[39;49m:\n\u001b[1;32m    356\u001b[0m             \u001b[38;5;28;01mcontinue\u001b[39;00m  \u001b[38;5;66;03m# We didn't get the full knn for i\u001b[39;00m\n\u001b[1;32m    357\u001b[0m         \u001b[38;5;28;01mif\u001b[39;00m knn_indices[i, j] \u001b[38;5;241m==\u001b[39m i:\n",
      "\u001b[0;31mKeyboardInterrupt\u001b[0m: "
     ]
    }
   ],
   "source": [
    "sc.pp.neighbors(combined_emb, n_neighbors=30)\n",
    "sc.tl.umap(combined_emb)\n",
    "sc.pl.umap(combined_emb, color=\"ref_or_query\")"
   ]
  },
  {
   "cell_type": "markdown",
   "metadata": {},
   "source": [
    "Saving combined embeddings (optional)"
   ]
  },
  {
   "cell_type": "code",
   "execution_count": null,
   "metadata": {},
   "outputs": [],
   "source": [
    "combined_emb.write_h5ad('../data/combined_embedding.h5ad')"
   ]
  },
  {
   "cell_type": "markdown",
   "metadata": {},
   "source": [
    "# Label transfer"
   ]
  },
  {
   "cell_type": "code",
   "execution_count": null,
   "metadata": {},
   "outputs": [],
   "source": [
    "url = 'https://github.com/LungCellAtlas/mapping_data_to_the_HLCA/blob/main/supporting_files/HLCA_celltypes_ordered.csv'\n",
    "output_celltypes = '../data/HLCA_celltypes_ordered.csv'\n",
    "gdown.download(url, output, quiet=False)\n"
   ]
  },
  {
   "cell_type": "code",
   "execution_count": null,
   "metadata": {},
   "outputs": [],
   "source": [
    "url = 'https://github.com/LungCellAtlas/mapping_data_to_the_HLCA/blob/main/supporting_files/HLCA_scarches_gene_order.csv'\n",
    "output_gene_order = '../data/HLCA_scarches_gene_order.csv'\n",
    "gdown.download(url, output, quiet=False)"
   ]
  },
  {
   "cell_type": "code",
   "execution_count": null,
   "metadata": {},
   "outputs": [],
   "source": [
    "cts_ordered = pd.read_csv(output_celltypes,index_col=0)    "
   ]
  },
  {
   "cell_type": "code",
   "execution_count": null,
   "metadata": {},
   "outputs": [],
   "source": [
    "knn_transformer = sca.utils.knn.weighted_knn_transfer(\n",
    "    train_adata=reference_embedding,\n",
    "    train_adata_emb=\"X\",\n",
    "    n_neighbors=50,\n",
    ")"
   ]
  },
  {
   "cell_type": "code",
   "execution_count": null,
   "metadata": {},
   "outputs": [],
   "source": [
    "labels, uncert = sca.utils.knn.weighted_knn_transfer(\n",
    "    query_adata=query_data_latent,\n",
    "    query_adata_emb=\"X\", # location of our joint embedding\n",
    "    label_keys=\"Level\",\n",
    "    knn_model=knn_transformer,\n",
    "    ref_adata_obs = reference_embedding.obs.join(cts_ordered, on='ann_finest_level')\n",
    "    )"
   ]
  },
  {
   "cell_type": "code",
   "execution_count": null,
   "metadata": {},
   "outputs": [],
   "source": [
    "uncertainty_threshold = 0.2"
   ]
  },
  {
   "cell_type": "code",
   "execution_count": null,
   "metadata": {},
   "outputs": [],
   "source": [
    "labels.rename(columns={f\"Level_{lev}\":f\"Level_{lev}_transfered_label_unfiltered\" for lev in range(1,6)},inplace=True)\n",
    "uncert.rename(columns={f\"Level_{lev}\":f\"Level_{lev}_transfer_uncert\" for lev in range(1,6)},inplace=True)"
   ]
  },
  {
   "cell_type": "code",
   "execution_count": null,
   "metadata": {},
   "outputs": [],
   "source": [
    "combined_emb.obs = combined_emb.obs.join(labels)\n",
    "combined_emb.obs = combined_emb.obs.join(uncert)"
   ]
  },
  {
   "cell_type": "code",
   "execution_count": null,
   "metadata": {},
   "outputs": [],
   "source": [
    "# convert to arrays instead of categoricals, and set \"nan\" to NaN \n",
    "for col in combined_emb.obs.columns:\n",
    "    if col.endswith(\"_transfer_uncert\"):\n",
    "        combined_emb.obs[col] = list(np.array(combined_emb.obs[col]))\n",
    "    elif col.endswith(\"_transfered_label_unfiltered\"):\n",
    "        filtered_colname = col.replace(\"_unfiltered\",\"\")\n",
    "        matching_uncert_col = col.replace(\"transfered_label_unfiltered\",\"transfer_uncert\")\n",
    "        \n",
    "        # also create a filtered version, setting cells with too high \n",
    "        # uncertainty levels to \"Unknown\"\n",
    "        combined_emb.obs[filtered_colname] = combined_emb.obs[col]\n",
    "        combined_emb.obs[filtered_colname].loc[combined_emb.obs[matching_uncert_col]>uncertainty_threshold] = \"Unknown\"\n",
    "        # convert to categorical:\n",
    "        combined_emb.obs[col] = pd.Categorical(combined_emb.obs[col])\n",
    "        combined_emb.obs[filtered_colname] = pd.Categorical(combined_emb.obs[filtered_colname])\n",
    "        # then replace \"nan\" with NaN (that makes colors better in umap)\n",
    "        combined_emb.obs[col].replace(\"nan\",np.nan,inplace=True)\n",
    "        combined_emb.obs[filtered_colname].replace(\"nan\",np.nan,inplace=True)"
   ]
  },
  {
   "cell_type": "code",
   "execution_count": null,
   "metadata": {},
   "outputs": [],
   "source": [
    "print(f\"Percentage of unknown per level, with uncertainty_threshold={uncertainty_threshold}:\")\n",
    "for level in range(1,6):\n",
    "    print(f\"Level {level}: {np.round(sum(combined_emb.obs[f'Level_{level}_transfered_label'] =='Unknown')/query_data.n_obs*100,2)}%\")"
   ]
  },
  {
   "cell_type": "code",
   "execution_count": null,
   "metadata": {},
   "outputs": [],
   "source": [
    "sc.pl.umap(\n",
    "    combined_emb,\n",
    "    color=[f\"Level_{lev}_transfer_uncert\" for lev in range(1,6)],\n",
    "    ncols=5)"
   ]
  },
  {
   "cell_type": "markdown",
   "metadata": {
    "tags": []
   },
   "source": [
    "### UMAP Uncertainties "
   ]
  },
  {
   "cell_type": "code",
   "execution_count": null,
   "metadata": {},
   "outputs": [],
   "source": [
    "sc.pl.umap(combined_emb, color=\"ann_finest_level\")"
   ]
  },
  {
   "cell_type": "code",
   "execution_count": null,
   "metadata": {},
   "outputs": [],
   "source": [
    "combined_emb.write(os.path.join(dir_out,\"combined_embedding.h5ad\"))"
   ]
  }
 ],
 "metadata": {
  "kernelspec": {
   "display_name": "Python 3 (ipykernel)",
   "language": "python",
   "name": "python3"
  },
  "language_info": {
   "codemirror_mode": {
    "name": "ipython",
    "version": 3
   },
   "file_extension": ".py",
   "mimetype": "text/x-python",
   "name": "python",
   "nbconvert_exporter": "python",
   "pygments_lexer": "ipython3",
   "version": "3.9.15"
  },
  "vscode": {
   "interpreter": {
    "hash": "f9f85f796d01129d0dd105a088854619f454435301f6ffec2fea96ecbd9be4ac"
   }
  }
 },
 "nbformat": 4,
 "nbformat_minor": 4
}
